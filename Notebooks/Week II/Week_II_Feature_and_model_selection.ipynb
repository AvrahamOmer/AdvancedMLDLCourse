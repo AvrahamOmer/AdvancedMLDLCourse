{
  "nbformat": 4,
  "nbformat_minor": 0,
  "metadata": {
    "colab": {
      "name": "Week II: Feature and model selection.ipynb",
      "provenance": [],
      "collapsed_sections": []
    },
    "kernelspec": {
      "name": "python3",
      "display_name": "Python 3"
    },
    "language_info": {
      "name": "python"
    }
  },
  "cells": [
    {
      "cell_type": "markdown",
      "metadata": {
        "id": "msrn1jgBl_Pl"
      },
      "source": [
        "# Week II: Feature and model selection\n",
        "\n",
        "This week we'll cover the topics of feature and model selection. \n",
        "\n",
        "**Model selection**: given a dataset, our goal is to choose the most fitting model.\n",
        "\n",
        "**Feature selection**: given a dataset and a model, our goal is to choose a subset of the dataset's features for which the model performs best."
      ]
    },
    {
      "cell_type": "markdown",
      "metadata": {
        "id": "C-Z5iAzCqC1q"
      },
      "source": [
        "## Dataset: Boston house prices\n",
        "\n",
        "Throughout this exercise we'll be using the Boston real-estate dataset (available online [here](http://lib.stat.cmu.edu/datasets/boston)). The goal in this dataset is to predict the prices of houses given a set of real-estate related variables.\n",
        "\n"
      ]
    },
    {
      "cell_type": "markdown",
      "metadata": {
        "id": "u5HuFqHfvSFt"
      },
      "source": [
        "According to the documentation, these are the definition of all variables:\n",
        " 1. **CRIM:**     per capita crime rate by town\n",
        " 2. **ZN:**       proportion of residential land zoned for lots over 25,000 sq.ft.\n",
        " 3. **INDUS:**    proportion of non-retail business acres per town\n",
        " 4. **CHAS:**     Charles River dummy variable (= 1 if tract bounds river; 0 otherwise)\n",
        " 5. **NOX:**      nitric oxides concentration (parts per 10 million)\n",
        " 6. **RM:**       average number of rooms per dwelling\n",
        " 7. **AGE:**      proportion of owner-occupied units built prior to 1940\n",
        " 8. **DIS:**      weighted distances to five Boston employment centres\n",
        " 9. **RAD:**      index of accessibility to radial highways\n",
        " 10. **TAX:**      full-value property-tax rate per 10,000 USD\n",
        " 11. **PTRATIO:**  pupil-teacher ratio by town\n",
        " 12. **B:**        1000(Bk - 0.63)^2 where Bk is the proportion of blacks by town\n",
        " 13. **LSTAT:**    % lower status of the population\n",
        " 14. **MEDV:**     Median value of owner-occupied homes in $1000's"
      ]
    },
    {
      "cell_type": "markdown",
      "metadata": {
        "id": "ftr0K1BPs4uv"
      },
      "source": [
        "### Loading the data\n",
        "\n",
        "The data is saved on Google drive. In order to import it we'll need to mount our drive into the notebook, using Google's library. Note that you'll need to authenticate your Google account."
      ]
    },
    {
      "cell_type": "code",
      "metadata": {
        "colab": {
          "base_uri": "https://localhost:8080/"
        },
        "id": "6ppCGy7VrJcU",
        "outputId": "62fe0114-d833-4bd9-dd65-41aa917067fb"
      },
      "source": [
        "from google.colab import drive\n",
        "drive.mount('/content/drive')"
      ],
      "execution_count": 1,
      "outputs": [
        {
          "output_type": "stream",
          "name": "stdout",
          "text": [
            "Mounted at /content/drive\n"
          ]
        }
      ]
    },
    {
      "cell_type": "markdown",
      "metadata": {
        "id": "oyiLEGdBtedg"
      },
      "source": [
        "Now that the drive is mounted, we can access files in it. Let's use pandas to load the dataset"
      ]
    },
    {
      "cell_type": "code",
      "metadata": {
        "id": "XEe-jNpsrUPv"
      },
      "source": [
        "import pandas as pd"
      ],
      "execution_count": 2,
      "outputs": []
    },
    {
      "cell_type": "code",
      "metadata": {
        "colab": {
          "base_uri": "https://localhost:8080/",
          "height": 423
        },
        "id": "xfQVoaSAsig-",
        "outputId": "012d1c2a-47a4-45a9-e73d-a3d54d42ab16"
      },
      "source": [
        "df = pd.read_csv('/content/drive/My Drive/Colab Notebooks/Data/HousingData.csv')\n",
        "df"
      ],
      "execution_count": 3,
      "outputs": [
        {
          "output_type": "execute_result",
          "data": {
            "text/html": [
              "\n",
              "  <div id=\"df-e8143004-2306-49d5-9e5c-ab97242ad239\">\n",
              "    <div class=\"colab-df-container\">\n",
              "      <div>\n",
              "<style scoped>\n",
              "    .dataframe tbody tr th:only-of-type {\n",
              "        vertical-align: middle;\n",
              "    }\n",
              "\n",
              "    .dataframe tbody tr th {\n",
              "        vertical-align: top;\n",
              "    }\n",
              "\n",
              "    .dataframe thead th {\n",
              "        text-align: right;\n",
              "    }\n",
              "</style>\n",
              "<table border=\"1\" class=\"dataframe\">\n",
              "  <thead>\n",
              "    <tr style=\"text-align: right;\">\n",
              "      <th></th>\n",
              "      <th>CRIM</th>\n",
              "      <th>ZN</th>\n",
              "      <th>INDUS</th>\n",
              "      <th>CHAS</th>\n",
              "      <th>NOX</th>\n",
              "      <th>RM</th>\n",
              "      <th>AGE</th>\n",
              "      <th>DIS</th>\n",
              "      <th>RAD</th>\n",
              "      <th>TAX</th>\n",
              "      <th>PTRATIO</th>\n",
              "      <th>B</th>\n",
              "      <th>LSTAT</th>\n",
              "      <th>MEDV</th>\n",
              "    </tr>\n",
              "  </thead>\n",
              "  <tbody>\n",
              "    <tr>\n",
              "      <th>0</th>\n",
              "      <td>0.00632</td>\n",
              "      <td>18.0</td>\n",
              "      <td>2.31</td>\n",
              "      <td>0.0</td>\n",
              "      <td>0.538</td>\n",
              "      <td>6.575</td>\n",
              "      <td>65.2</td>\n",
              "      <td>4.0900</td>\n",
              "      <td>1</td>\n",
              "      <td>296</td>\n",
              "      <td>15.3</td>\n",
              "      <td>396.90</td>\n",
              "      <td>4.98</td>\n",
              "      <td>24.0</td>\n",
              "    </tr>\n",
              "    <tr>\n",
              "      <th>1</th>\n",
              "      <td>0.02731</td>\n",
              "      <td>0.0</td>\n",
              "      <td>7.07</td>\n",
              "      <td>0.0</td>\n",
              "      <td>0.469</td>\n",
              "      <td>6.421</td>\n",
              "      <td>78.9</td>\n",
              "      <td>4.9671</td>\n",
              "      <td>2</td>\n",
              "      <td>242</td>\n",
              "      <td>17.8</td>\n",
              "      <td>396.90</td>\n",
              "      <td>9.14</td>\n",
              "      <td>21.6</td>\n",
              "    </tr>\n",
              "    <tr>\n",
              "      <th>2</th>\n",
              "      <td>0.02729</td>\n",
              "      <td>0.0</td>\n",
              "      <td>7.07</td>\n",
              "      <td>0.0</td>\n",
              "      <td>0.469</td>\n",
              "      <td>7.185</td>\n",
              "      <td>61.1</td>\n",
              "      <td>4.9671</td>\n",
              "      <td>2</td>\n",
              "      <td>242</td>\n",
              "      <td>17.8</td>\n",
              "      <td>392.83</td>\n",
              "      <td>4.03</td>\n",
              "      <td>34.7</td>\n",
              "    </tr>\n",
              "    <tr>\n",
              "      <th>3</th>\n",
              "      <td>0.03237</td>\n",
              "      <td>0.0</td>\n",
              "      <td>2.18</td>\n",
              "      <td>0.0</td>\n",
              "      <td>0.458</td>\n",
              "      <td>6.998</td>\n",
              "      <td>45.8</td>\n",
              "      <td>6.0622</td>\n",
              "      <td>3</td>\n",
              "      <td>222</td>\n",
              "      <td>18.7</td>\n",
              "      <td>394.63</td>\n",
              "      <td>2.94</td>\n",
              "      <td>33.4</td>\n",
              "    </tr>\n",
              "    <tr>\n",
              "      <th>4</th>\n",
              "      <td>0.06905</td>\n",
              "      <td>0.0</td>\n",
              "      <td>2.18</td>\n",
              "      <td>0.0</td>\n",
              "      <td>0.458</td>\n",
              "      <td>7.147</td>\n",
              "      <td>54.2</td>\n",
              "      <td>6.0622</td>\n",
              "      <td>3</td>\n",
              "      <td>222</td>\n",
              "      <td>18.7</td>\n",
              "      <td>396.90</td>\n",
              "      <td>NaN</td>\n",
              "      <td>36.2</td>\n",
              "    </tr>\n",
              "    <tr>\n",
              "      <th>...</th>\n",
              "      <td>...</td>\n",
              "      <td>...</td>\n",
              "      <td>...</td>\n",
              "      <td>...</td>\n",
              "      <td>...</td>\n",
              "      <td>...</td>\n",
              "      <td>...</td>\n",
              "      <td>...</td>\n",
              "      <td>...</td>\n",
              "      <td>...</td>\n",
              "      <td>...</td>\n",
              "      <td>...</td>\n",
              "      <td>...</td>\n",
              "      <td>...</td>\n",
              "    </tr>\n",
              "    <tr>\n",
              "      <th>501</th>\n",
              "      <td>0.06263</td>\n",
              "      <td>0.0</td>\n",
              "      <td>11.93</td>\n",
              "      <td>0.0</td>\n",
              "      <td>0.573</td>\n",
              "      <td>6.593</td>\n",
              "      <td>69.1</td>\n",
              "      <td>2.4786</td>\n",
              "      <td>1</td>\n",
              "      <td>273</td>\n",
              "      <td>21.0</td>\n",
              "      <td>391.99</td>\n",
              "      <td>NaN</td>\n",
              "      <td>22.4</td>\n",
              "    </tr>\n",
              "    <tr>\n",
              "      <th>502</th>\n",
              "      <td>0.04527</td>\n",
              "      <td>0.0</td>\n",
              "      <td>11.93</td>\n",
              "      <td>0.0</td>\n",
              "      <td>0.573</td>\n",
              "      <td>6.120</td>\n",
              "      <td>76.7</td>\n",
              "      <td>2.2875</td>\n",
              "      <td>1</td>\n",
              "      <td>273</td>\n",
              "      <td>21.0</td>\n",
              "      <td>396.90</td>\n",
              "      <td>9.08</td>\n",
              "      <td>20.6</td>\n",
              "    </tr>\n",
              "    <tr>\n",
              "      <th>503</th>\n",
              "      <td>0.06076</td>\n",
              "      <td>0.0</td>\n",
              "      <td>11.93</td>\n",
              "      <td>0.0</td>\n",
              "      <td>0.573</td>\n",
              "      <td>6.976</td>\n",
              "      <td>91.0</td>\n",
              "      <td>2.1675</td>\n",
              "      <td>1</td>\n",
              "      <td>273</td>\n",
              "      <td>21.0</td>\n",
              "      <td>396.90</td>\n",
              "      <td>5.64</td>\n",
              "      <td>23.9</td>\n",
              "    </tr>\n",
              "    <tr>\n",
              "      <th>504</th>\n",
              "      <td>0.10959</td>\n",
              "      <td>0.0</td>\n",
              "      <td>11.93</td>\n",
              "      <td>0.0</td>\n",
              "      <td>0.573</td>\n",
              "      <td>6.794</td>\n",
              "      <td>89.3</td>\n",
              "      <td>2.3889</td>\n",
              "      <td>1</td>\n",
              "      <td>273</td>\n",
              "      <td>21.0</td>\n",
              "      <td>393.45</td>\n",
              "      <td>6.48</td>\n",
              "      <td>22.0</td>\n",
              "    </tr>\n",
              "    <tr>\n",
              "      <th>505</th>\n",
              "      <td>0.04741</td>\n",
              "      <td>0.0</td>\n",
              "      <td>11.93</td>\n",
              "      <td>0.0</td>\n",
              "      <td>0.573</td>\n",
              "      <td>6.030</td>\n",
              "      <td>NaN</td>\n",
              "      <td>2.5050</td>\n",
              "      <td>1</td>\n",
              "      <td>273</td>\n",
              "      <td>21.0</td>\n",
              "      <td>396.90</td>\n",
              "      <td>7.88</td>\n",
              "      <td>11.9</td>\n",
              "    </tr>\n",
              "  </tbody>\n",
              "</table>\n",
              "<p>506 rows × 14 columns</p>\n",
              "</div>\n",
              "      <button class=\"colab-df-convert\" onclick=\"convertToInteractive('df-e8143004-2306-49d5-9e5c-ab97242ad239')\"\n",
              "              title=\"Convert this dataframe to an interactive table.\"\n",
              "              style=\"display:none;\">\n",
              "        \n",
              "  <svg xmlns=\"http://www.w3.org/2000/svg\" height=\"24px\"viewBox=\"0 0 24 24\"\n",
              "       width=\"24px\">\n",
              "    <path d=\"M0 0h24v24H0V0z\" fill=\"none\"/>\n",
              "    <path d=\"M18.56 5.44l.94 2.06.94-2.06 2.06-.94-2.06-.94-.94-2.06-.94 2.06-2.06.94zm-11 1L8.5 8.5l.94-2.06 2.06-.94-2.06-.94L8.5 2.5l-.94 2.06-2.06.94zm10 10l.94 2.06.94-2.06 2.06-.94-2.06-.94-.94-2.06-.94 2.06-2.06.94z\"/><path d=\"M17.41 7.96l-1.37-1.37c-.4-.4-.92-.59-1.43-.59-.52 0-1.04.2-1.43.59L10.3 9.45l-7.72 7.72c-.78.78-.78 2.05 0 2.83L4 21.41c.39.39.9.59 1.41.59.51 0 1.02-.2 1.41-.59l7.78-7.78 2.81-2.81c.8-.78.8-2.07 0-2.86zM5.41 20L4 18.59l7.72-7.72 1.47 1.35L5.41 20z\"/>\n",
              "  </svg>\n",
              "      </button>\n",
              "      \n",
              "  <style>\n",
              "    .colab-df-container {\n",
              "      display:flex;\n",
              "      flex-wrap:wrap;\n",
              "      gap: 12px;\n",
              "    }\n",
              "\n",
              "    .colab-df-convert {\n",
              "      background-color: #E8F0FE;\n",
              "      border: none;\n",
              "      border-radius: 50%;\n",
              "      cursor: pointer;\n",
              "      display: none;\n",
              "      fill: #1967D2;\n",
              "      height: 32px;\n",
              "      padding: 0 0 0 0;\n",
              "      width: 32px;\n",
              "    }\n",
              "\n",
              "    .colab-df-convert:hover {\n",
              "      background-color: #E2EBFA;\n",
              "      box-shadow: 0px 1px 2px rgba(60, 64, 67, 0.3), 0px 1px 3px 1px rgba(60, 64, 67, 0.15);\n",
              "      fill: #174EA6;\n",
              "    }\n",
              "\n",
              "    [theme=dark] .colab-df-convert {\n",
              "      background-color: #3B4455;\n",
              "      fill: #D2E3FC;\n",
              "    }\n",
              "\n",
              "    [theme=dark] .colab-df-convert:hover {\n",
              "      background-color: #434B5C;\n",
              "      box-shadow: 0px 1px 3px 1px rgba(0, 0, 0, 0.15);\n",
              "      filter: drop-shadow(0px 1px 2px rgba(0, 0, 0, 0.3));\n",
              "      fill: #FFFFFF;\n",
              "    }\n",
              "  </style>\n",
              "\n",
              "      <script>\n",
              "        const buttonEl =\n",
              "          document.querySelector('#df-e8143004-2306-49d5-9e5c-ab97242ad239 button.colab-df-convert');\n",
              "        buttonEl.style.display =\n",
              "          google.colab.kernel.accessAllowed ? 'block' : 'none';\n",
              "\n",
              "        async function convertToInteractive(key) {\n",
              "          const element = document.querySelector('#df-e8143004-2306-49d5-9e5c-ab97242ad239');\n",
              "          const dataTable =\n",
              "            await google.colab.kernel.invokeFunction('convertToInteractive',\n",
              "                                                     [key], {});\n",
              "          if (!dataTable) return;\n",
              "\n",
              "          const docLinkHtml = 'Like what you see? Visit the ' +\n",
              "            '<a target=\"_blank\" href=https://colab.research.google.com/notebooks/data_table.ipynb>data table notebook</a>'\n",
              "            + ' to learn more about interactive tables.';\n",
              "          element.innerHTML = '';\n",
              "          dataTable['output_type'] = 'display_data';\n",
              "          await google.colab.output.renderOutput(dataTable, element);\n",
              "          const docLink = document.createElement('div');\n",
              "          docLink.innerHTML = docLinkHtml;\n",
              "          element.appendChild(docLink);\n",
              "        }\n",
              "      </script>\n",
              "    </div>\n",
              "  </div>\n",
              "  "
            ],
            "text/plain": [
              "        CRIM    ZN  INDUS  CHAS    NOX  ...  TAX  PTRATIO       B  LSTAT  MEDV\n",
              "0    0.00632  18.0   2.31   0.0  0.538  ...  296     15.3  396.90   4.98  24.0\n",
              "1    0.02731   0.0   7.07   0.0  0.469  ...  242     17.8  396.90   9.14  21.6\n",
              "2    0.02729   0.0   7.07   0.0  0.469  ...  242     17.8  392.83   4.03  34.7\n",
              "3    0.03237   0.0   2.18   0.0  0.458  ...  222     18.7  394.63   2.94  33.4\n",
              "4    0.06905   0.0   2.18   0.0  0.458  ...  222     18.7  396.90    NaN  36.2\n",
              "..       ...   ...    ...   ...    ...  ...  ...      ...     ...    ...   ...\n",
              "501  0.06263   0.0  11.93   0.0  0.573  ...  273     21.0  391.99    NaN  22.4\n",
              "502  0.04527   0.0  11.93   0.0  0.573  ...  273     21.0  396.90   9.08  20.6\n",
              "503  0.06076   0.0  11.93   0.0  0.573  ...  273     21.0  396.90   5.64  23.9\n",
              "504  0.10959   0.0  11.93   0.0  0.573  ...  273     21.0  393.45   6.48  22.0\n",
              "505  0.04741   0.0  11.93   0.0  0.573  ...  273     21.0  396.90   7.88  11.9\n",
              "\n",
              "[506 rows x 14 columns]"
            ]
          },
          "metadata": {},
          "execution_count": 3
        }
      ]
    },
    {
      "cell_type": "markdown",
      "metadata": {
        "id": "6mmZkPP2vVG-"
      },
      "source": [
        "We can see that there are indeed 14 columns (variables) and 506 rows (samples) in the dataset. \n",
        "\n",
        "MEDV is our target (the house price) so we'll split the dataframe to two:\n",
        "\n"
      ]
    },
    {
      "cell_type": "code",
      "metadata": {
        "colab": {
          "base_uri": "https://localhost:8080/"
        },
        "id": "Sg_MKxQx0IJD",
        "outputId": "0a293f25-dc25-488c-eadb-3ff6451cf6e4"
      },
      "source": [
        "X = df.drop(['MEDV'], axis=1)\n",
        "Y = df[['MEDV']]\n",
        "X, Y"
      ],
      "execution_count": 4,
      "outputs": [
        {
          "output_type": "execute_result",
          "data": {
            "text/plain": [
              "(        CRIM    ZN  INDUS  CHAS    NOX  ...  RAD  TAX  PTRATIO       B  LSTAT\n",
              " 0    0.00632  18.0   2.31   0.0  0.538  ...    1  296     15.3  396.90   4.98\n",
              " 1    0.02731   0.0   7.07   0.0  0.469  ...    2  242     17.8  396.90   9.14\n",
              " 2    0.02729   0.0   7.07   0.0  0.469  ...    2  242     17.8  392.83   4.03\n",
              " 3    0.03237   0.0   2.18   0.0  0.458  ...    3  222     18.7  394.63   2.94\n",
              " 4    0.06905   0.0   2.18   0.0  0.458  ...    3  222     18.7  396.90    NaN\n",
              " ..       ...   ...    ...   ...    ...  ...  ...  ...      ...     ...    ...\n",
              " 501  0.06263   0.0  11.93   0.0  0.573  ...    1  273     21.0  391.99    NaN\n",
              " 502  0.04527   0.0  11.93   0.0  0.573  ...    1  273     21.0  396.90   9.08\n",
              " 503  0.06076   0.0  11.93   0.0  0.573  ...    1  273     21.0  396.90   5.64\n",
              " 504  0.10959   0.0  11.93   0.0  0.573  ...    1  273     21.0  393.45   6.48\n",
              " 505  0.04741   0.0  11.93   0.0  0.573  ...    1  273     21.0  396.90   7.88\n",
              " \n",
              " [506 rows x 13 columns],      MEDV\n",
              " 0    24.0\n",
              " 1    21.6\n",
              " 2    34.7\n",
              " 3    33.4\n",
              " 4    36.2\n",
              " ..    ...\n",
              " 501  22.4\n",
              " 502  20.6\n",
              " 503  23.9\n",
              " 504  22.0\n",
              " 505  11.9\n",
              " \n",
              " [506 rows x 1 columns])"
            ]
          },
          "metadata": {},
          "execution_count": 4
        }
      ]
    },
    {
      "cell_type": "markdown",
      "metadata": {
        "id": "fReY3PIB0Dqp"
      },
      "source": [
        "As usual, we'll split the data into training and testing datasets:"
      ]
    },
    {
      "cell_type": "code",
      "metadata": {
        "id": "7W-Tzh_ayR36"
      },
      "source": [
        "from sklearn.model_selection import train_test_split\n",
        "X_train, X_test, Y_train, Y_test = train_test_split(X, Y, test_size=0.2, random_state=42)"
      ],
      "execution_count": 5,
      "outputs": []
    },
    {
      "cell_type": "markdown",
      "metadata": {
        "id": "fOYO1CpMvq-2"
      },
      "source": [
        "### Exploring the data\n",
        "\n"
      ]
    },
    {
      "cell_type": "markdown",
      "metadata": {
        "id": "bQaCtC6j4ogH"
      },
      "source": [
        "Let's look at some statistical attributes of the data:"
      ]
    },
    {
      "cell_type": "code",
      "metadata": {
        "colab": {
          "base_uri": "https://localhost:8080/",
          "height": 300
        },
        "id": "o6BBYem7xomg",
        "outputId": "81954379-3fde-4b81-8319-42b48286163c"
      },
      "source": [
        "df.describe()"
      ],
      "execution_count": 6,
      "outputs": [
        {
          "output_type": "execute_result",
          "data": {
            "text/html": [
              "\n",
              "  <div id=\"df-002a623f-18fe-4f51-ae36-b8ecf1025be1\">\n",
              "    <div class=\"colab-df-container\">\n",
              "      <div>\n",
              "<style scoped>\n",
              "    .dataframe tbody tr th:only-of-type {\n",
              "        vertical-align: middle;\n",
              "    }\n",
              "\n",
              "    .dataframe tbody tr th {\n",
              "        vertical-align: top;\n",
              "    }\n",
              "\n",
              "    .dataframe thead th {\n",
              "        text-align: right;\n",
              "    }\n",
              "</style>\n",
              "<table border=\"1\" class=\"dataframe\">\n",
              "  <thead>\n",
              "    <tr style=\"text-align: right;\">\n",
              "      <th></th>\n",
              "      <th>CRIM</th>\n",
              "      <th>ZN</th>\n",
              "      <th>INDUS</th>\n",
              "      <th>CHAS</th>\n",
              "      <th>NOX</th>\n",
              "      <th>RM</th>\n",
              "      <th>AGE</th>\n",
              "      <th>DIS</th>\n",
              "      <th>RAD</th>\n",
              "      <th>TAX</th>\n",
              "      <th>PTRATIO</th>\n",
              "      <th>B</th>\n",
              "      <th>LSTAT</th>\n",
              "      <th>MEDV</th>\n",
              "    </tr>\n",
              "  </thead>\n",
              "  <tbody>\n",
              "    <tr>\n",
              "      <th>count</th>\n",
              "      <td>486.000000</td>\n",
              "      <td>486.000000</td>\n",
              "      <td>486.000000</td>\n",
              "      <td>486.000000</td>\n",
              "      <td>506.000000</td>\n",
              "      <td>506.000000</td>\n",
              "      <td>486.000000</td>\n",
              "      <td>506.000000</td>\n",
              "      <td>506.000000</td>\n",
              "      <td>506.000000</td>\n",
              "      <td>506.000000</td>\n",
              "      <td>506.000000</td>\n",
              "      <td>486.000000</td>\n",
              "      <td>506.000000</td>\n",
              "    </tr>\n",
              "    <tr>\n",
              "      <th>mean</th>\n",
              "      <td>3.611874</td>\n",
              "      <td>11.211934</td>\n",
              "      <td>11.083992</td>\n",
              "      <td>0.069959</td>\n",
              "      <td>0.554695</td>\n",
              "      <td>6.284634</td>\n",
              "      <td>68.518519</td>\n",
              "      <td>3.795043</td>\n",
              "      <td>9.549407</td>\n",
              "      <td>408.237154</td>\n",
              "      <td>18.455534</td>\n",
              "      <td>356.674032</td>\n",
              "      <td>12.715432</td>\n",
              "      <td>22.532806</td>\n",
              "    </tr>\n",
              "    <tr>\n",
              "      <th>std</th>\n",
              "      <td>8.720192</td>\n",
              "      <td>23.388876</td>\n",
              "      <td>6.835896</td>\n",
              "      <td>0.255340</td>\n",
              "      <td>0.115878</td>\n",
              "      <td>0.702617</td>\n",
              "      <td>27.999513</td>\n",
              "      <td>2.105710</td>\n",
              "      <td>8.707259</td>\n",
              "      <td>168.537116</td>\n",
              "      <td>2.164946</td>\n",
              "      <td>91.294864</td>\n",
              "      <td>7.155871</td>\n",
              "      <td>9.197104</td>\n",
              "    </tr>\n",
              "    <tr>\n",
              "      <th>min</th>\n",
              "      <td>0.006320</td>\n",
              "      <td>0.000000</td>\n",
              "      <td>0.460000</td>\n",
              "      <td>0.000000</td>\n",
              "      <td>0.385000</td>\n",
              "      <td>3.561000</td>\n",
              "      <td>2.900000</td>\n",
              "      <td>1.129600</td>\n",
              "      <td>1.000000</td>\n",
              "      <td>187.000000</td>\n",
              "      <td>12.600000</td>\n",
              "      <td>0.320000</td>\n",
              "      <td>1.730000</td>\n",
              "      <td>5.000000</td>\n",
              "    </tr>\n",
              "    <tr>\n",
              "      <th>25%</th>\n",
              "      <td>0.081900</td>\n",
              "      <td>0.000000</td>\n",
              "      <td>5.190000</td>\n",
              "      <td>0.000000</td>\n",
              "      <td>0.449000</td>\n",
              "      <td>5.885500</td>\n",
              "      <td>45.175000</td>\n",
              "      <td>2.100175</td>\n",
              "      <td>4.000000</td>\n",
              "      <td>279.000000</td>\n",
              "      <td>17.400000</td>\n",
              "      <td>375.377500</td>\n",
              "      <td>7.125000</td>\n",
              "      <td>17.025000</td>\n",
              "    </tr>\n",
              "    <tr>\n",
              "      <th>50%</th>\n",
              "      <td>0.253715</td>\n",
              "      <td>0.000000</td>\n",
              "      <td>9.690000</td>\n",
              "      <td>0.000000</td>\n",
              "      <td>0.538000</td>\n",
              "      <td>6.208500</td>\n",
              "      <td>76.800000</td>\n",
              "      <td>3.207450</td>\n",
              "      <td>5.000000</td>\n",
              "      <td>330.000000</td>\n",
              "      <td>19.050000</td>\n",
              "      <td>391.440000</td>\n",
              "      <td>11.430000</td>\n",
              "      <td>21.200000</td>\n",
              "    </tr>\n",
              "    <tr>\n",
              "      <th>75%</th>\n",
              "      <td>3.560263</td>\n",
              "      <td>12.500000</td>\n",
              "      <td>18.100000</td>\n",
              "      <td>0.000000</td>\n",
              "      <td>0.624000</td>\n",
              "      <td>6.623500</td>\n",
              "      <td>93.975000</td>\n",
              "      <td>5.188425</td>\n",
              "      <td>24.000000</td>\n",
              "      <td>666.000000</td>\n",
              "      <td>20.200000</td>\n",
              "      <td>396.225000</td>\n",
              "      <td>16.955000</td>\n",
              "      <td>25.000000</td>\n",
              "    </tr>\n",
              "    <tr>\n",
              "      <th>max</th>\n",
              "      <td>88.976200</td>\n",
              "      <td>100.000000</td>\n",
              "      <td>27.740000</td>\n",
              "      <td>1.000000</td>\n",
              "      <td>0.871000</td>\n",
              "      <td>8.780000</td>\n",
              "      <td>100.000000</td>\n",
              "      <td>12.126500</td>\n",
              "      <td>24.000000</td>\n",
              "      <td>711.000000</td>\n",
              "      <td>22.000000</td>\n",
              "      <td>396.900000</td>\n",
              "      <td>37.970000</td>\n",
              "      <td>50.000000</td>\n",
              "    </tr>\n",
              "  </tbody>\n",
              "</table>\n",
              "</div>\n",
              "      <button class=\"colab-df-convert\" onclick=\"convertToInteractive('df-002a623f-18fe-4f51-ae36-b8ecf1025be1')\"\n",
              "              title=\"Convert this dataframe to an interactive table.\"\n",
              "              style=\"display:none;\">\n",
              "        \n",
              "  <svg xmlns=\"http://www.w3.org/2000/svg\" height=\"24px\"viewBox=\"0 0 24 24\"\n",
              "       width=\"24px\">\n",
              "    <path d=\"M0 0h24v24H0V0z\" fill=\"none\"/>\n",
              "    <path d=\"M18.56 5.44l.94 2.06.94-2.06 2.06-.94-2.06-.94-.94-2.06-.94 2.06-2.06.94zm-11 1L8.5 8.5l.94-2.06 2.06-.94-2.06-.94L8.5 2.5l-.94 2.06-2.06.94zm10 10l.94 2.06.94-2.06 2.06-.94-2.06-.94-.94-2.06-.94 2.06-2.06.94z\"/><path d=\"M17.41 7.96l-1.37-1.37c-.4-.4-.92-.59-1.43-.59-.52 0-1.04.2-1.43.59L10.3 9.45l-7.72 7.72c-.78.78-.78 2.05 0 2.83L4 21.41c.39.39.9.59 1.41.59.51 0 1.02-.2 1.41-.59l7.78-7.78 2.81-2.81c.8-.78.8-2.07 0-2.86zM5.41 20L4 18.59l7.72-7.72 1.47 1.35L5.41 20z\"/>\n",
              "  </svg>\n",
              "      </button>\n",
              "      \n",
              "  <style>\n",
              "    .colab-df-container {\n",
              "      display:flex;\n",
              "      flex-wrap:wrap;\n",
              "      gap: 12px;\n",
              "    }\n",
              "\n",
              "    .colab-df-convert {\n",
              "      background-color: #E8F0FE;\n",
              "      border: none;\n",
              "      border-radius: 50%;\n",
              "      cursor: pointer;\n",
              "      display: none;\n",
              "      fill: #1967D2;\n",
              "      height: 32px;\n",
              "      padding: 0 0 0 0;\n",
              "      width: 32px;\n",
              "    }\n",
              "\n",
              "    .colab-df-convert:hover {\n",
              "      background-color: #E2EBFA;\n",
              "      box-shadow: 0px 1px 2px rgba(60, 64, 67, 0.3), 0px 1px 3px 1px rgba(60, 64, 67, 0.15);\n",
              "      fill: #174EA6;\n",
              "    }\n",
              "\n",
              "    [theme=dark] .colab-df-convert {\n",
              "      background-color: #3B4455;\n",
              "      fill: #D2E3FC;\n",
              "    }\n",
              "\n",
              "    [theme=dark] .colab-df-convert:hover {\n",
              "      background-color: #434B5C;\n",
              "      box-shadow: 0px 1px 3px 1px rgba(0, 0, 0, 0.15);\n",
              "      filter: drop-shadow(0px 1px 2px rgba(0, 0, 0, 0.3));\n",
              "      fill: #FFFFFF;\n",
              "    }\n",
              "  </style>\n",
              "\n",
              "      <script>\n",
              "        const buttonEl =\n",
              "          document.querySelector('#df-002a623f-18fe-4f51-ae36-b8ecf1025be1 button.colab-df-convert');\n",
              "        buttonEl.style.display =\n",
              "          google.colab.kernel.accessAllowed ? 'block' : 'none';\n",
              "\n",
              "        async function convertToInteractive(key) {\n",
              "          const element = document.querySelector('#df-002a623f-18fe-4f51-ae36-b8ecf1025be1');\n",
              "          const dataTable =\n",
              "            await google.colab.kernel.invokeFunction('convertToInteractive',\n",
              "                                                     [key], {});\n",
              "          if (!dataTable) return;\n",
              "\n",
              "          const docLinkHtml = 'Like what you see? Visit the ' +\n",
              "            '<a target=\"_blank\" href=https://colab.research.google.com/notebooks/data_table.ipynb>data table notebook</a>'\n",
              "            + ' to learn more about interactive tables.';\n",
              "          element.innerHTML = '';\n",
              "          dataTable['output_type'] = 'display_data';\n",
              "          await google.colab.output.renderOutput(dataTable, element);\n",
              "          const docLink = document.createElement('div');\n",
              "          docLink.innerHTML = docLinkHtml;\n",
              "          element.appendChild(docLink);\n",
              "        }\n",
              "      </script>\n",
              "    </div>\n",
              "  </div>\n",
              "  "
            ],
            "text/plain": [
              "             CRIM          ZN       INDUS  ...           B       LSTAT        MEDV\n",
              "count  486.000000  486.000000  486.000000  ...  506.000000  486.000000  506.000000\n",
              "mean     3.611874   11.211934   11.083992  ...  356.674032   12.715432   22.532806\n",
              "std      8.720192   23.388876    6.835896  ...   91.294864    7.155871    9.197104\n",
              "min      0.006320    0.000000    0.460000  ...    0.320000    1.730000    5.000000\n",
              "25%      0.081900    0.000000    5.190000  ...  375.377500    7.125000   17.025000\n",
              "50%      0.253715    0.000000    9.690000  ...  391.440000   11.430000   21.200000\n",
              "75%      3.560263   12.500000   18.100000  ...  396.225000   16.955000   25.000000\n",
              "max     88.976200  100.000000   27.740000  ...  396.900000   37.970000   50.000000\n",
              "\n",
              "[8 rows x 14 columns]"
            ]
          },
          "metadata": {},
          "execution_count": 6
        }
      ]
    },
    {
      "cell_type": "markdown",
      "metadata": {
        "id": "6nyOe0RBzRpC"
      },
      "source": [
        "Let's look at the Pearson correlation between the features:"
      ]
    },
    {
      "cell_type": "code",
      "metadata": {
        "id": "Vb7MTMQEz3ug"
      },
      "source": [
        "correlations = df.corr()"
      ],
      "execution_count": 8,
      "outputs": []
    },
    {
      "cell_type": "markdown",
      "metadata": {
        "id": "YU9TgES-2FbZ"
      },
      "source": [
        "Let's plot the correlation matrix using matplotlib and seaborn:"
      ]
    },
    {
      "cell_type": "code",
      "metadata": {
        "colab": {
          "base_uri": "https://localhost:8080/",
          "height": 880
        },
        "id": "Wr0VkJHFwYGg",
        "outputId": "bca8a996-4c11-4f72-e613-baa92c851cfe"
      },
      "source": [
        "import seaborn as sns\n",
        "import matplotlib.pyplot as plt\n",
        "plt.figure(figsize=(15, 15))\n",
        "sns.heatmap(correlations, cbar=False, square= True, fmt='.2%', annot=True, cmap='Greens')"
      ],
      "execution_count": 9,
      "outputs": [
        {
          "output_type": "execute_result",
          "data": {
            "text/plain": [
              "<matplotlib.axes._subplots.AxesSubplot at 0x7fcbb48da5d0>"
            ]
          },
          "metadata": {},
          "execution_count": 9
        },
        {
          "output_type": "display_data",
          "data": {
            "image/png": "[encoded data removed]",
            "text/plain": [
              "<Figure size 1080x1080 with 1 Axes>"
            ]
          },
          "metadata": {
            "needs_background": "light"
          }
        }
      ]
    },
    {
      "cell_type": "markdown",
      "source": [
        "Check for null values:"
      ],
      "metadata": {
        "id": "ARY-T92DehUw"
      }
    },
    {
      "cell_type": "code",
      "metadata": {
        "id": "3-UfT7hNwfL8",
        "colab": {
          "base_uri": "https://localhost:8080/"
        },
        "outputId": "4f85db81-84fa-41bb-ad8d-b7fe19a8fd13"
      },
      "source": [
        "df.info()"
      ],
      "execution_count": 10,
      "outputs": [
        {
          "output_type": "stream",
          "name": "stdout",
          "text": [
            "<class 'pandas.core.frame.DataFrame'>\n",
            "RangeIndex: 506 entries, 0 to 505\n",
            "Data columns (total 14 columns):\n",
            " #   Column   Non-Null Count  Dtype  \n",
            "---  ------   --------------  -----  \n",
            " 0   CRIM     486 non-null    float64\n",
            " 1   ZN       486 non-null    float64\n",
            " 2   INDUS    486 non-null    float64\n",
            " 3   CHAS     486 non-null    float64\n",
            " 4   NOX      506 non-null    float64\n",
            " 5   RM       506 non-null    float64\n",
            " 6   AGE      486 non-null    float64\n",
            " 7   DIS      506 non-null    float64\n",
            " 8   RAD      506 non-null    int64  \n",
            " 9   TAX      506 non-null    int64  \n",
            " 10  PTRATIO  506 non-null    float64\n",
            " 11  B        506 non-null    float64\n",
            " 12  LSTAT    486 non-null    float64\n",
            " 13  MEDV     506 non-null    float64\n",
            "dtypes: float64(12), int64(2)\n",
            "memory usage: 55.5 KB\n"
          ]
        }
      ]
    },
    {
      "cell_type": "markdown",
      "metadata": {
        "id": "mc_LF7oGwkut"
      },
      "source": [
        "Most of the columns are of type float64, and only two are of type int64. We can also see that there are some null values in the dataset. Fortunately, none of them are in the label column. Nevertheless, we need to replace these values with zeros:"
      ]
    },
    {
      "cell_type": "code",
      "metadata": {
        "id": "Dy9sEkVs4tZe"
      },
      "source": [
        "X_train, X_test = X_train.fillna(0), X_test.fillna(0)"
      ],
      "execution_count": 12,
      "outputs": []
    },
    {
      "cell_type": "markdown",
      "metadata": {
        "id": "mAyiqDNa2yKA"
      },
      "source": [
        "## Model selection\n",
        "\n",
        "Now that we have the data, we can proceed to train a model. Given a set of features, our goal is to predict a real number - the value of the property. In other words, this is a regression probelm so we'll only consider regression algorithms. In today's examples we'll compare linear regression and random forest.\n"
      ]
    },
    {
      "cell_type": "markdown",
      "source": [
        "We'll create a dictionary to save the models:"
      ],
      "metadata": {
        "id": "3oulIGGkVXWy"
      }
    },
    {
      "cell_type": "code",
      "source": [
        "models = {'Random forest': None,\n",
        "          'Decision tree': None,\n",
        "          'Linear regression': None,\n",
        "          'Ridge regression': None}"
      ],
      "metadata": {
        "id": "E8XtvTKkVdV6"
      },
      "execution_count": 13,
      "outputs": []
    },
    {
      "cell_type": "markdown",
      "metadata": {
        "id": "eq6O71sk3aOf"
      },
      "source": [
        "### Random forest\n",
        "\n",
        "Let's setup a function that trains a random forest"
      ]
    },
    {
      "cell_type": "code",
      "metadata": {
        "id": "bD7iBMga362h"
      },
      "source": [
        "from sklearn.ensemble import RandomForestRegressor\n",
        "from sklearn.model_selection import GridSearchCV\n",
        "import numpy as np"
      ],
      "execution_count": 14,
      "outputs": []
    },
    {
      "cell_type": "markdown",
      "metadata": {
        "id": "lfk37-g66BmF"
      },
      "source": [
        "We'll use RandomizedSearchCV to find the best number of trees for our RF:"
      ]
    },
    {
      "cell_type": "code",
      "metadata": {
        "id": "MHenXw9v4Fwm"
      },
      "source": [
        "def run_random_forest(x_train, y_train):\n",
        "  rf = RandomForestRegressor(n_estimators=200, random_state=42)\n",
        "  tuned_rf = GridSearchCV(estimator=rf, \n",
        "                          param_grid={'max_features': ['auto', 'sqrt', 'log2', 1/3]},\n",
        "                          scoring='neg_mean_squared_error',\n",
        "                          cv=3, \n",
        "                          verbose=3,\n",
        "                          refit=True)\n",
        "  tuned_rf.fit(x_train, y_train)\n",
        "  return tuned_rf"
      ],
      "execution_count": 59,
      "outputs": []
    },
    {
      "cell_type": "markdown",
      "metadata": {
        "id": "AjdAfDOiUehI"
      },
      "source": [
        "### Single decision tree\n",
        "\n",
        "Let's setup a function that trains a single decision tree"
      ]
    },
    {
      "cell_type": "code",
      "metadata": {
        "id": "DUBobgShUehI"
      },
      "source": [
        "from sklearn.tree import DecisionTreeRegressor"
      ],
      "execution_count": 20,
      "outputs": []
    },
    {
      "cell_type": "markdown",
      "metadata": {
        "id": "Ia-o1VUTVCtB"
      },
      "source": [
        "We'll use RandomizedSearchCV to find the best number of trees for our RF:"
      ]
    },
    {
      "cell_type": "code",
      "metadata": {
        "id": "iLY-9HP-VCtC"
      },
      "source": [
        "def run_decision_tree(x_train, y_train):\n",
        "  dt = DecisionTreeRegressor(random_state=42)\n",
        "  tuned_dt = GridSearchCV(estimator=dt, \n",
        "                          param_grid={'max_features': ['auto', 'sqrt', 'log2', 1/3]},\n",
        "                          scoring='neg_mean_squared_error',\n",
        "                          cv=3, \n",
        "                          verbose=3)\n",
        "  tuned_dt.fit(x_train, y_train)\n",
        "  return tuned_dt"
      ],
      "execution_count": 60,
      "outputs": []
    },
    {
      "cell_type": "markdown",
      "metadata": {
        "id": "FYV1j_dvAW_b"
      },
      "source": [
        "### Linear regression\n",
        "Let's repeat a similar process for linear regression. \n",
        "\n",
        "We'll begin by building a linear regression function:"
      ]
    },
    {
      "cell_type": "code",
      "metadata": {
        "id": "0oe4uLI2AwuY"
      },
      "source": [
        "from sklearn.linear_model import LinearRegression\n",
        "from sklearn.model_selection import cross_val_score"
      ],
      "execution_count": 23,
      "outputs": []
    },
    {
      "cell_type": "code",
      "metadata": {
        "id": "C2jL7LgiA7ks"
      },
      "source": [
        "def run_linear_regression(x_train, y_train):\n",
        "  lr = LinearRegression()\n",
        "  lr.fit(x_train, np.ravel(y_train))\n",
        "  cv_score = cross_val_score(lr, x_train, y_train, scoring='neg_mean_squared_error', cv=3)\n",
        "  return lr, cv_score"
      ],
      "execution_count": 61,
      "outputs": []
    },
    {
      "cell_type": "markdown",
      "metadata": {
        "id": "yu1E6RBJThUo"
      },
      "source": [
        "### Ridge regression\n",
        "Let's repeat a similar process for linear regression. \n",
        "\n",
        "We'll begin by building a linear regression function:"
      ]
    },
    {
      "cell_type": "code",
      "metadata": {
        "id": "roZtq38tThUo"
      },
      "source": [
        "from sklearn.linear_model import Ridge"
      ],
      "execution_count": 29,
      "outputs": []
    },
    {
      "cell_type": "code",
      "metadata": {
        "id": "j2egl6J4ThUp"
      },
      "source": [
        "def run_ridge_regression(x_train, y_train):\n",
        "  rr = Ridge()\n",
        "  tuned_rr = GridSearchCV(estimator=rr, \n",
        "                          param_grid={'alpha': [0.05, 0.5, 1]},\n",
        "                          scoring='neg_mean_squared_error',\n",
        "                          cv=3, \n",
        "                          verbose=3)\n",
        "  tuned_rr.fit(x_train, np.ravel(y_train))\n",
        "  return tuned_rr"
      ],
      "execution_count": 62,
      "outputs": []
    },
    {
      "cell_type": "markdown",
      "metadata": {
        "id": "TQP3R_wcWMih"
      },
      "source": [
        "### Run all models\n",
        "Let's run all models:"
      ]
    },
    {
      "cell_type": "code",
      "source": [
        "def run_all_models(x, y):\n",
        "  models_dict = {}\n",
        "  models_dict['Random forest'] = run_random_forest(x, y)\n",
        "  models_dict['Decision tree'] = run_decision_tree(x, y)\n",
        "  models_dict['Linear regression'] = run_linear_regression(x, y)\n",
        "  models_dict['Ridge regression'] = run_ridge_regression(x, y)\n",
        "  return models_dict"
      ],
      "metadata": {
        "id": "8U0YsHVYWSnq"
      },
      "execution_count": 63,
      "outputs": []
    },
    {
      "cell_type": "code",
      "source": [
        "models = run_all_models(X_train, Y_train.values.ravel())"
      ],
      "metadata": {
        "colab": {
          "base_uri": "https://localhost:8080/"
        },
        "id": "6RSQhyl7Wp4E",
        "outputId": "5ace389f-e4e9-4b10-8a34-528d0287c893"
      },
      "execution_count": 65,
      "outputs": [
        {
          "output_type": "stream",
          "name": "stdout",
          "text": [
            "Fitting 3 folds for each of 4 candidates, totalling 12 fits\n",
            "[CV 1/3] END ...............max_features=auto;, score=-21.210 total time=   0.9s\n",
            "[CV 2/3] END ...............max_features=auto;, score=-25.719 total time=   0.9s\n",
            "[CV 3/3] END ...............max_features=auto;, score=-10.984 total time=   0.9s\n",
            "[CV 1/3] END ...............max_features=sqrt;, score=-17.162 total time=   0.7s\n",
            "[CV 2/3] END ...............max_features=sqrt;, score=-16.257 total time=   0.6s\n",
            "[CV 3/3] END ...............max_features=sqrt;, score=-15.720 total time=   0.8s\n",
            "[CV 1/3] END ...............max_features=log2;, score=-17.162 total time=   0.9s\n",
            "[CV 2/3] END ...............max_features=log2;, score=-16.257 total time=   1.2s\n",
            "[CV 3/3] END ...............max_features=log2;, score=-15.720 total time=   0.8s\n",
            "[CV 1/3] END .max_features=0.3333333333333333;, score=-17.316 total time=   0.9s\n",
            "[CV 2/3] END .max_features=0.3333333333333333;, score=-15.672 total time=   0.7s\n",
            "[CV 3/3] END .max_features=0.3333333333333333;, score=-14.641 total time=   0.8s\n",
            "Fitting 3 folds for each of 4 candidates, totalling 12 fits\n",
            "[CV 1/3] END ...............max_features=auto;, score=-31.116 total time=   0.0s\n",
            "[CV 2/3] END ...............max_features=auto;, score=-31.405 total time=   0.0s\n",
            "[CV 3/3] END ...............max_features=auto;, score=-22.453 total time=   0.0s\n",
            "[CV 1/3] END ...............max_features=sqrt;, score=-24.374 total time=   0.0s\n",
            "[CV 2/3] END ...............max_features=sqrt;, score=-37.101 total time=   0.0s\n",
            "[CV 3/3] END ...............max_features=sqrt;, score=-42.970 total time=   0.0s\n",
            "[CV 1/3] END ...............max_features=log2;, score=-24.374 total time=   0.0s\n",
            "[CV 2/3] END ...............max_features=log2;, score=-37.101 total time=   0.0s\n",
            "[CV 3/3] END ...............max_features=log2;, score=-42.970 total time=   0.0s\n",
            "[CV 1/3] END .max_features=0.3333333333333333;, score=-39.132 total time=   0.0s\n",
            "[CV 2/3] END .max_features=0.3333333333333333;, score=-42.044 total time=   0.0s\n",
            "[CV 3/3] END .max_features=0.3333333333333333;, score=-33.050 total time=   0.0s\n",
            "Fitting 3 folds for each of 3 candidates, totalling 9 fits\n",
            "[CV 1/3] END ......................alpha=0.05;, score=-24.976 total time=   0.0s\n",
            "[CV 2/3] END ......................alpha=0.05;, score=-26.211 total time=   0.0s\n",
            "[CV 3/3] END ......................alpha=0.05;, score=-22.516 total time=   0.0s\n",
            "[CV 1/3] END .......................alpha=0.5;, score=-25.165 total time=   0.0s\n",
            "[CV 2/3] END .......................alpha=0.5;, score=-26.381 total time=   0.0s\n",
            "[CV 3/3] END .......................alpha=0.5;, score=-22.700 total time=   0.0s\n",
            "[CV 1/3] END .........................alpha=1;, score=-25.357 total time=   0.0s\n",
            "[CV 2/3] END .........................alpha=1;, score=-26.542 total time=   0.0s\n",
            "[CV 3/3] END .........................alpha=1;, score=-22.884 total time=   0.0s\n"
          ]
        }
      ]
    },
    {
      "cell_type": "markdown",
      "source": [
        "Comparing their cross validation scores:"
      ],
      "metadata": {
        "id": "tUjXeRY8YcW8"
      }
    },
    {
      "cell_type": "code",
      "source": [
        "cv_scores = {}\n",
        "cv_scores['Random forest'] = models['Random forest'].best_score_\n",
        "cv_scores['Decision tree'] = models['Decision tree'].best_score_\n",
        "cv_scores['Ridge regression'] = models['Ridge regression'].best_score_\n",
        "cv_scores['Linear regression'] = models['Linear regression'][1].mean()\n",
        "cv_scores"
      ],
      "metadata": {
        "id": "LNLFi6w_Yb0k",
        "colab": {
          "base_uri": "https://localhost:8080/"
        },
        "outputId": "032560df-b998-44bf-b97b-10d712975e1b"
      },
      "execution_count": 67,
      "outputs": [
        {
          "output_type": "execute_result",
          "data": {
            "text/plain": [
              "{'Decision tree': -28.32452496775382,\n",
              " 'Linear regression': -24.555400236095664,\n",
              " 'Random forest': -15.876247833079956,\n",
              " 'Ridge regression': -24.56765117744926}"
            ]
          },
          "metadata": {},
          "execution_count": 67
        }
      ]
    },
    {
      "cell_type": "code",
      "source": [
        "models['Random forest'].best_params_"
      ],
      "metadata": {
        "colab": {
          "base_uri": "https://localhost:8080/"
        },
        "id": "-Q_qW_nQUy4p",
        "outputId": "4bcf5ab2-25c5-420c-8cc1-f2094b0988c2"
      },
      "execution_count": 68,
      "outputs": [
        {
          "output_type": "execute_result",
          "data": {
            "text/plain": [
              "{'max_features': 0.3333333333333333}"
            ]
          },
          "metadata": {},
          "execution_count": 68
        }
      ]
    },
    {
      "cell_type": "code",
      "source": [
        "models['Decision tree'].best_params_"
      ],
      "metadata": {
        "colab": {
          "base_uri": "https://localhost:8080/"
        },
        "id": "XP6lBKHhU2kx",
        "outputId": "f6c37131-862a-4921-d3f4-898fb10947d0"
      },
      "execution_count": 70,
      "outputs": [
        {
          "output_type": "execute_result",
          "data": {
            "text/plain": [
              "{'max_features': 'auto'}"
            ]
          },
          "metadata": {},
          "execution_count": 70
        }
      ]
    },
    {
      "cell_type": "code",
      "source": [
        "models['Ridge regression'].best_params_"
      ],
      "metadata": {
        "colab": {
          "base_uri": "https://localhost:8080/"
        },
        "id": "BfkA2ZHZU6Mp",
        "outputId": "4b7cead4-3d69-40f1-88c6-c93920894d11"
      },
      "execution_count": 71,
      "outputs": [
        {
          "output_type": "execute_result",
          "data": {
            "text/plain": [
              "{'alpha': 0.05}"
            ]
          },
          "metadata": {},
          "execution_count": 71
        }
      ]
    },
    {
      "cell_type": "markdown",
      "source": [
        "# Evaluating on test set"
      ],
      "metadata": {
        "id": "9Bw9U_ERZDtc"
      }
    },
    {
      "cell_type": "markdown",
      "source": [
        "Let's evaluate all models:"
      ],
      "metadata": {
        "id": "Yx7dCbC8Zcer"
      }
    },
    {
      "cell_type": "code",
      "source": [
        "from sklearn.metrics import mean_squared_error\n",
        "\n",
        "def evaluate_single_model(x, y, model):\n",
        "  y_pred = model.predict(x)\n",
        "  return mean_squared_error(y, y_pred)"
      ],
      "metadata": {
        "id": "hfQUqyqqZNZN"
      },
      "execution_count": 73,
      "outputs": []
    },
    {
      "cell_type": "markdown",
      "source": [
        "And test the function:"
      ],
      "metadata": {
        "id": "oZh2XxOAaXBt"
      }
    },
    {
      "cell_type": "code",
      "source": [
        "evaluate_single_model(X_test, Y_test, models['Random forest'].best_estimator_)"
      ],
      "metadata": {
        "colab": {
          "base_uri": "https://localhost:8080/"
        },
        "id": "D67k00AXZgPs",
        "outputId": "634f5c2c-1222-460c-a40d-7db29dccbdba"
      },
      "execution_count": 74,
      "outputs": [
        {
          "output_type": "execute_result",
          "data": {
            "text/plain": [
              "10.330201774509797"
            ]
          },
          "metadata": {},
          "execution_count": 74
        }
      ]
    },
    {
      "cell_type": "markdown",
      "source": [
        "Let's create a dictionary that includes only trained models:"
      ],
      "metadata": {
        "id": "I4MpmgBYZ78E"
      }
    },
    {
      "cell_type": "code",
      "source": [
        "trained_models_dict = {}\n",
        "trained_models_dict['Random forest'] = models['Random forest'].best_estimator_\n",
        "trained_models_dict['Decision tree'] = models['Decision tree'].best_estimator_\n",
        "trained_models_dict['Ridge regression'] = models['Ridge regression'].best_estimator_\n",
        "trained_models_dict['Linear regression'] = models['Linear regression'][0]\n",
        "trained_models_dict"
      ],
      "metadata": {
        "colab": {
          "base_uri": "https://localhost:8080/"
        },
        "id": "Bd-MUc5EaFBM",
        "outputId": "c1a54aec-44ff-411f-8503-41cf688bb241"
      },
      "execution_count": 76,
      "outputs": [
        {
          "output_type": "execute_result",
          "data": {
            "text/plain": [
              "{'Decision tree': DecisionTreeRegressor(max_features='auto', random_state=42),\n",
              " 'Linear regression': LinearRegression(),\n",
              " 'Random forest': RandomForestRegressor(max_features=0.3333333333333333, n_estimators=200,\n",
              "                       random_state=42),\n",
              " 'Ridge regression': Ridge(alpha=0.05)}"
            ]
          },
          "metadata": {},
          "execution_count": 76
        }
      ]
    },
    {
      "cell_type": "markdown",
      "source": [
        "And create a function that iterates over all models:"
      ],
      "metadata": {
        "id": "W8kRL7UxanJO"
      }
    },
    {
      "cell_type": "code",
      "source": [
        "def evaluate_all_models(x, y, models_dict):\n",
        "  test_set_scores = {}\n",
        "  for k, v in models_dict.items():\n",
        "    test_set_scores[k] = evaluate_single_model(x, y, v)\n",
        "  return test_set_scores"
      ],
      "metadata": {
        "id": "J0sOG19KZFv1"
      },
      "execution_count": 77,
      "outputs": []
    },
    {
      "cell_type": "markdown",
      "source": [
        "Finally, let's run our function:"
      ],
      "metadata": {
        "id": "wc14xlYKawF2"
      }
    },
    {
      "cell_type": "code",
      "source": [
        "test_set_scores = evaluate_all_models(X_test, Y_test, trained_models_dict)\n",
        "test_set_scores"
      ],
      "metadata": {
        "colab": {
          "base_uri": "https://localhost:8080/"
        },
        "id": "-L5oOKaFah_3",
        "outputId": "36d86b7c-20cd-4175-f7d4-86df18017376"
      },
      "execution_count": 78,
      "outputs": [
        {
          "output_type": "execute_result",
          "data": {
            "text/plain": [
              "{'Decision tree': 24.693921568627452,\n",
              " 'Linear regression': 25.929696549627003,\n",
              " 'Random forest': 10.330201774509797,\n",
              " 'Ridge regression': 25.931650205256418}"
            ]
          },
          "metadata": {},
          "execution_count": 78
        }
      ]
    },
    {
      "cell_type": "markdown",
      "source": [
        "### Overall comparison"
      ],
      "metadata": {
        "id": "v-dUZ0sAcp9-"
      }
    },
    {
      "cell_type": "markdown",
      "source": [
        "Let's combine the two dictionaries:"
      ],
      "metadata": {
        "id": "PuHf2ktQcVGn"
      }
    },
    {
      "cell_type": "code",
      "source": [
        "combined_dict = {k: [np.abs(v), test_set_scores[k]] for k, v in cv_scores.items()}\n",
        "combined_dict"
      ],
      "metadata": {
        "id": "F59TlEGHcW4v",
        "colab": {
          "base_uri": "https://localhost:8080/"
        },
        "outputId": "f551b625-aaa9-45ff-94d5-69b81ee07093"
      },
      "execution_count": 80,
      "outputs": [
        {
          "output_type": "execute_result",
          "data": {
            "text/plain": [
              "{'Decision tree': [28.32452496775382, 24.693921568627452],\n",
              " 'Linear regression': [24.555400236095664, 25.929696549627003],\n",
              " 'Random forest': [15.876247833079956, 10.330201774509797],\n",
              " 'Ridge regression': [24.56765117744926, 25.931650205256418]}"
            ]
          },
          "metadata": {},
          "execution_count": 80
        }
      ]
    },
    {
      "cell_type": "markdown",
      "source": [
        "And compare the CV score to the test set score:"
      ],
      "metadata": {
        "id": "_-mLRYKNcut1"
      }
    },
    {
      "cell_type": "code",
      "source": [
        "scores_df = pd.DataFrame.from_dict(combined_dict, orient='index', columns=['CV score', 'Test set score'])\n",
        "scores_df"
      ],
      "metadata": {
        "colab": {
          "base_uri": "https://localhost:8080/",
          "height": 175
        },
        "id": "RTns2IUka9re",
        "outputId": "944ea0ea-ea6d-48bb-8ea1-c1728c58704c"
      },
      "execution_count": 81,
      "outputs": [
        {
          "output_type": "execute_result",
          "data": {
            "text/html": [
              "\n",
              "  <div id=\"df-c2c4558c-3dbd-4af6-b7a4-ed2da569ec9d\">\n",
              "    <div class=\"colab-df-container\">\n",
              "      <div>\n",
              "<style scoped>\n",
              "    .dataframe tbody tr th:only-of-type {\n",
              "        vertical-align: middle;\n",
              "    }\n",
              "\n",
              "    .dataframe tbody tr th {\n",
              "        vertical-align: top;\n",
              "    }\n",
              "\n",
              "    .dataframe thead th {\n",
              "        text-align: right;\n",
              "    }\n",
              "</style>\n",
              "<table border=\"1\" class=\"dataframe\">\n",
              "  <thead>\n",
              "    <tr style=\"text-align: right;\">\n",
              "      <th></th>\n",
              "      <th>CV score</th>\n",
              "      <th>Test set score</th>\n",
              "    </tr>\n",
              "  </thead>\n",
              "  <tbody>\n",
              "    <tr>\n",
              "      <th>Random forest</th>\n",
              "      <td>15.876248</td>\n",
              "      <td>10.330202</td>\n",
              "    </tr>\n",
              "    <tr>\n",
              "      <th>Decision tree</th>\n",
              "      <td>28.324525</td>\n",
              "      <td>24.693922</td>\n",
              "    </tr>\n",
              "    <tr>\n",
              "      <th>Ridge regression</th>\n",
              "      <td>24.567651</td>\n",
              "      <td>25.931650</td>\n",
              "    </tr>\n",
              "    <tr>\n",
              "      <th>Linear regression</th>\n",
              "      <td>24.555400</td>\n",
              "      <td>25.929697</td>\n",
              "    </tr>\n",
              "  </tbody>\n",
              "</table>\n",
              "</div>\n",
              "      <button class=\"colab-df-convert\" onclick=\"convertToInteractive('df-c2c4558c-3dbd-4af6-b7a4-ed2da569ec9d')\"\n",
              "              title=\"Convert this dataframe to an interactive table.\"\n",
              "              style=\"display:none;\">\n",
              "        \n",
              "  <svg xmlns=\"http://www.w3.org/2000/svg\" height=\"24px\"viewBox=\"0 0 24 24\"\n",
              "       width=\"24px\">\n",
              "    <path d=\"M0 0h24v24H0V0z\" fill=\"none\"/>\n",
              "    <path d=\"M18.56 5.44l.94 2.06.94-2.06 2.06-.94-2.06-.94-.94-2.06-.94 2.06-2.06.94zm-11 1L8.5 8.5l.94-2.06 2.06-.94-2.06-.94L8.5 2.5l-.94 2.06-2.06.94zm10 10l.94 2.06.94-2.06 2.06-.94-2.06-.94-.94-2.06-.94 2.06-2.06.94z\"/><path d=\"M17.41 7.96l-1.37-1.37c-.4-.4-.92-.59-1.43-.59-.52 0-1.04.2-1.43.59L10.3 9.45l-7.72 7.72c-.78.78-.78 2.05 0 2.83L4 21.41c.39.39.9.59 1.41.59.51 0 1.02-.2 1.41-.59l7.78-7.78 2.81-2.81c.8-.78.8-2.07 0-2.86zM5.41 20L4 18.59l7.72-7.72 1.47 1.35L5.41 20z\"/>\n",
              "  </svg>\n",
              "      </button>\n",
              "      \n",
              "  <style>\n",
              "    .colab-df-container {\n",
              "      display:flex;\n",
              "      flex-wrap:wrap;\n",
              "      gap: 12px;\n",
              "    }\n",
              "\n",
              "    .colab-df-convert {\n",
              "      background-color: #E8F0FE;\n",
              "      border: none;\n",
              "      border-radius: 50%;\n",
              "      cursor: pointer;\n",
              "      display: none;\n",
              "      fill: #1967D2;\n",
              "      height: 32px;\n",
              "      padding: 0 0 0 0;\n",
              "      width: 32px;\n",
              "    }\n",
              "\n",
              "    .colab-df-convert:hover {\n",
              "      background-color: #E2EBFA;\n",
              "      box-shadow: 0px 1px 2px rgba(60, 64, 67, 0.3), 0px 1px 3px 1px rgba(60, 64, 67, 0.15);\n",
              "      fill: #174EA6;\n",
              "    }\n",
              "\n",
              "    [theme=dark] .colab-df-convert {\n",
              "      background-color: #3B4455;\n",
              "      fill: #D2E3FC;\n",
              "    }\n",
              "\n",
              "    [theme=dark] .colab-df-convert:hover {\n",
              "      background-color: #434B5C;\n",
              "      box-shadow: 0px 1px 3px 1px rgba(0, 0, 0, 0.15);\n",
              "      filter: drop-shadow(0px 1px 2px rgba(0, 0, 0, 0.3));\n",
              "      fill: #FFFFFF;\n",
              "    }\n",
              "  </style>\n",
              "\n",
              "      <script>\n",
              "        const buttonEl =\n",
              "          document.querySelector('#df-c2c4558c-3dbd-4af6-b7a4-ed2da569ec9d button.colab-df-convert');\n",
              "        buttonEl.style.display =\n",
              "          google.colab.kernel.accessAllowed ? 'block' : 'none';\n",
              "\n",
              "        async function convertToInteractive(key) {\n",
              "          const element = document.querySelector('#df-c2c4558c-3dbd-4af6-b7a4-ed2da569ec9d');\n",
              "          const dataTable =\n",
              "            await google.colab.kernel.invokeFunction('convertToInteractive',\n",
              "                                                     [key], {});\n",
              "          if (!dataTable) return;\n",
              "\n",
              "          const docLinkHtml = 'Like what you see? Visit the ' +\n",
              "            '<a target=\"_blank\" href=https://colab.research.google.com/notebooks/data_table.ipynb>data table notebook</a>'\n",
              "            + ' to learn more about interactive tables.';\n",
              "          element.innerHTML = '';\n",
              "          dataTable['output_type'] = 'display_data';\n",
              "          await google.colab.output.renderOutput(dataTable, element);\n",
              "          const docLink = document.createElement('div');\n",
              "          docLink.innerHTML = docLinkHtml;\n",
              "          element.appendChild(docLink);\n",
              "        }\n",
              "      </script>\n",
              "    </div>\n",
              "  </div>\n",
              "  "
            ],
            "text/plain": [
              "                    CV score  Test set score\n",
              "Random forest      15.876248       10.330202\n",
              "Decision tree      28.324525       24.693922\n",
              "Ridge regression   24.567651       25.931650\n",
              "Linear regression  24.555400       25.929697"
            ]
          },
          "metadata": {},
          "execution_count": 81
        }
      ]
    },
    {
      "cell_type": "markdown",
      "metadata": {
        "id": "OptRSjbIB9le"
      },
      "source": [
        "## Feature selection\n",
        "\n",
        "Now that we saw basic results of two different models, let's try and experiment with the features themselves."
      ]
    },
    {
      "cell_type": "markdown",
      "metadata": {
        "id": "fI7AnGePCPX2"
      },
      "source": [
        "### Responsible AI\n",
        "\n",
        "The decisions of data scientists can often affect the lives of real people. Hence, there are many ethical considerations to be taken. In the industry, such concerns are well though out.\n",
        "\n",
        "Let's examine our case. There is one obious feature that stands out: the feature that is named **B**. It's unethical to use features such as skin color when using an AI model. Hence, we'll remove it.\n",
        "\n",
        "A similar case could be made for the **AGE** feature, but it's less conclusive and more common in the industry so we'll keep it.\n",
        "\n",
        "Let's remove feature **B**:"
      ]
    },
    {
      "cell_type": "code",
      "metadata": {
        "id": "x2sTqbKADrAN",
        "colab": {
          "base_uri": "https://localhost:8080/"
        },
        "outputId": "70f34ddd-d4a0-4d34-f8dc-b1c602992254"
      },
      "source": [
        "X_train, X_test = X_train.drop(['B'], axis=1), X_test.drop(['B'], axis=1)\n",
        "X_train, X_test"
      ],
      "execution_count": 82,
      "outputs": [
        {
          "output_type": "execute_result",
          "data": {
            "text/plain": [
              "(         CRIM    ZN  INDUS  CHAS     NOX  ...     DIS  RAD  TAX  PTRATIO  LSTAT\n",
              " 477  15.02340   0.0  18.10   0.0  0.6140  ...  2.1007   24  666     20.2  24.91\n",
              " 15    0.62739   0.0   8.14   0.0  0.5380  ...  4.4986    4  307     21.0   8.47\n",
              " 332   0.03466   0.0   6.06   0.0  0.4379  ...  6.6407    1  304     16.9   7.83\n",
              " 423   7.05042   0.0  18.10   0.0  0.6140  ...  2.0218   24  666     20.2  23.29\n",
              " 19    0.72580   0.0   8.14   0.0  0.5380  ...  3.7965    4  307     21.0  11.28\n",
              " ..        ...   ...    ...   ...     ...  ...     ...  ...  ...      ...    ...\n",
              " 106   0.17120   0.0   8.56   0.0  0.5200  ...  2.2110    5  384     20.9  18.66\n",
              " 270   0.29916  20.0   6.96   0.0  0.4640  ...  4.4290    3  223     18.6  13.00\n",
              " 348   0.01501  80.0   2.01   0.0  0.4350  ...  8.3440    4  280     17.0   5.99\n",
              " 435  11.16040   0.0  18.10   0.0  0.7400  ...  2.1247   24  666     20.2  23.27\n",
              " 102   0.22876   0.0   8.56   0.0  0.5200  ...  2.7147    5  384     20.9  10.63\n",
              " \n",
              " [404 rows x 12 columns],\n",
              "          CRIM    ZN  INDUS  CHAS    NOX  ...     DIS  RAD  TAX  PTRATIO  LSTAT\n",
              " 173   0.09178   0.0   0.00   0.0  0.510  ...  2.6463    5  296     16.6   9.04\n",
              " 274   0.05644  40.0   6.41   1.0  0.447  ...  4.0776    4  254     17.6   3.53\n",
              " 491   0.10574   0.0  27.74   0.0  0.609  ...  1.8681    4  711     20.1  18.07\n",
              " 72    0.09164   0.0  10.81   0.0  0.413  ...  5.2873    4  305     19.2   5.52\n",
              " 452   5.09017   0.0  18.10   0.0  0.713  ...  2.3682   24  666     20.2  17.27\n",
              " ..        ...   ...    ...   ...    ...  ...     ...  ...  ...      ...    ...\n",
              " 412  18.81100   0.0  18.10   0.0  0.597  ...  1.5539   24  666     20.2  34.37\n",
              " 436  14.42080   0.0  18.10   0.0  0.740  ...  2.0026   24  666     20.2  18.05\n",
              " 411  14.05070   0.0  18.10   0.0  0.597  ...  1.5275   24  666     20.2  21.22\n",
              " 86    0.05188   0.0   4.49   0.0  0.449  ...  4.4272    3  247     18.5  12.86\n",
              " 75    0.09512   0.0  12.83   0.0  0.437  ...  4.5026    5  398     18.7   8.94\n",
              " \n",
              " [102 rows x 12 columns])"
            ]
          },
          "metadata": {},
          "execution_count": 82
        }
      ]
    },
    {
      "cell_type": "markdown",
      "metadata": {
        "id": "lemRKGVrEJ6d"
      },
      "source": [
        "Now we'll retrain the models without the unethical feature:"
      ]
    },
    {
      "cell_type": "code",
      "metadata": {
        "id": "Sf9-uNh2DB2v",
        "colab": {
          "base_uri": "https://localhost:8080/"
        },
        "outputId": "6ffea2f9-c377-401d-9c35-438ac9197c1d"
      },
      "source": [
        "models = run_all_models(X_train, Y_train.values.ravel())\n",
        "models"
      ],
      "execution_count": 84,
      "outputs": [
        {
          "output_type": "stream",
          "name": "stdout",
          "text": [
            "Fitting 3 folds for each of 4 candidates, totalling 12 fits\n",
            "[CV 1/3] END ...............max_features=auto;, score=-21.489 total time=   1.6s\n",
            "[CV 2/3] END ...............max_features=auto;, score=-24.659 total time=   1.6s\n",
            "[CV 3/3] END ...............max_features=auto;, score=-10.716 total time=   1.0s\n",
            "[CV 1/3] END ...............max_features=sqrt;, score=-18.105 total time=   0.7s\n",
            "[CV 2/3] END ...............max_features=sqrt;, score=-15.766 total time=   0.7s\n",
            "[CV 3/3] END ...............max_features=sqrt;, score=-14.889 total time=   0.6s\n",
            "[CV 1/3] END ...............max_features=log2;, score=-18.105 total time=   0.6s\n",
            "[CV 2/3] END ...............max_features=log2;, score=-15.766 total time=   0.6s\n",
            "[CV 3/3] END ...............max_features=log2;, score=-14.889 total time=   0.6s\n",
            "[CV 1/3] END .max_features=0.3333333333333333;, score=-18.140 total time=   0.6s\n",
            "[CV 2/3] END .max_features=0.3333333333333333;, score=-15.265 total time=   0.6s\n",
            "[CV 3/3] END .max_features=0.3333333333333333;, score=-14.350 total time=   0.6s\n",
            "Fitting 3 folds for each of 4 candidates, totalling 12 fits\n",
            "[CV 1/3] END ...............max_features=auto;, score=-36.212 total time=   0.0s\n",
            "[CV 2/3] END ...............max_features=auto;, score=-41.531 total time=   0.0s\n",
            "[CV 3/3] END ...............max_features=auto;, score=-24.696 total time=   0.0s\n",
            "[CV 1/3] END ...............max_features=sqrt;, score=-20.110 total time=   0.0s\n",
            "[CV 2/3] END ...............max_features=sqrt;, score=-38.660 total time=   0.0s\n",
            "[CV 3/3] END ...............max_features=sqrt;, score=-37.924 total time=   0.0s\n",
            "[CV 1/3] END ...............max_features=log2;, score=-20.110 total time=   0.0s\n",
            "[CV 2/3] END ...............max_features=log2;, score=-38.660 total time=   0.0s\n",
            "[CV 3/3] END ...............max_features=log2;, score=-37.924 total time=   0.0s\n",
            "[CV 1/3] END .max_features=0.3333333333333333;, score=-28.375 total time=   0.0s\n",
            "[CV 2/3] END .max_features=0.3333333333333333;, score=-31.263 total time=   0.0s\n",
            "[CV 3/3] END .max_features=0.3333333333333333;, score=-47.672 total time=   0.0s\n",
            "Fitting 3 folds for each of 3 candidates, totalling 9 fits\n",
            "[CV 1/3] END ......................alpha=0.05;, score=-26.302 total time=   0.0s\n",
            "[CV 2/3] END ......................alpha=0.05;, score=-26.524 total time=   0.0s\n",
            "[CV 3/3] END ......................alpha=0.05;, score=-23.309 total time=   0.0s\n",
            "[CV 1/3] END .......................alpha=0.5;, score=-26.583 total time=   0.0s\n",
            "[CV 2/3] END .......................alpha=0.5;, score=-26.408 total time=   0.0s\n",
            "[CV 3/3] END .......................alpha=0.5;, score=-23.526 total time=   0.0s\n",
            "[CV 1/3] END .........................alpha=1;, score=-26.820 total time=   0.0s\n",
            "[CV 2/3] END .........................alpha=1;, score=-26.458 total time=   0.0s\n",
            "[CV 3/3] END .........................alpha=1;, score=-23.736 total time=   0.0s\n"
          ]
        },
        {
          "output_type": "execute_result",
          "data": {
            "text/plain": [
              "{'Decision tree': GridSearchCV(cv=3, estimator=DecisionTreeRegressor(random_state=42),\n",
              "              param_grid={'max_features': ['auto', 'sqrt', 'log2',\n",
              "                                           0.3333333333333333]},\n",
              "              scoring='neg_mean_squared_error', verbose=3),\n",
              " 'Linear regression': (LinearRegression(),\n",
              "  array([-26.27222194, -26.57329855, -23.2895572 ])),\n",
              " 'Random forest': GridSearchCV(cv=3,\n",
              "              estimator=RandomForestRegressor(n_estimators=200, random_state=42),\n",
              "              param_grid={'max_features': ['auto', 'sqrt', 'log2',\n",
              "                                           0.3333333333333333]},\n",
              "              scoring='neg_mean_squared_error', verbose=3),\n",
              " 'Ridge regression': GridSearchCV(cv=3, estimator=Ridge(), param_grid={'alpha': [0.05, 0.5, 1]},\n",
              "              scoring='neg_mean_squared_error', verbose=3)}"
            ]
          },
          "metadata": {},
          "execution_count": 84
        }
      ]
    },
    {
      "cell_type": "code",
      "source": [
        "cv_scores = {}\n",
        "cv_scores['Random forest'] = models['Random forest'].best_score_\n",
        "cv_scores['Decision tree'] = models['Decision tree'].best_score_\n",
        "cv_scores['Ridge regression'] = models['Ridge regression'].best_score_\n",
        "cv_scores['Linear regression'] = models['Linear regression'][1].mean()\n",
        "cv_scores"
      ],
      "metadata": {
        "id": "92i3L3VsoHZR",
        "colab": {
          "base_uri": "https://localhost:8080/"
        },
        "outputId": "9c87b0c2-47a3-4009-8579-e0b7b1666ef6"
      },
      "execution_count": 85,
      "outputs": [
        {
          "output_type": "execute_result",
          "data": {
            "text/plain": [
              "{'Decision tree': -32.231269209508014,\n",
              " 'Linear regression': -25.378359230504387,\n",
              " 'Random forest': -15.918191783121422,\n",
              " 'Ridge regression': -25.37805381449424}"
            ]
          },
          "metadata": {},
          "execution_count": 85
        }
      ]
    },
    {
      "cell_type": "code",
      "source": [
        "models['Random forest'].best_params_"
      ],
      "metadata": {
        "colab": {
          "base_uri": "https://localhost:8080/"
        },
        "outputId": "e88c4c13-15e8-4a54-9d33-f9fab61d24cb",
        "id": "yYRhsMGNWych"
      },
      "execution_count": 86,
      "outputs": [
        {
          "output_type": "execute_result",
          "data": {
            "text/plain": [
              "{'max_features': 0.3333333333333333}"
            ]
          },
          "metadata": {},
          "execution_count": 86
        }
      ]
    },
    {
      "cell_type": "code",
      "source": [
        "models['Decision tree'].best_params_"
      ],
      "metadata": {
        "colab": {
          "base_uri": "https://localhost:8080/"
        },
        "outputId": "a5a19196-d030-49e5-d34d-2979df616842",
        "id": "2K-popxKWych"
      },
      "execution_count": 87,
      "outputs": [
        {
          "output_type": "execute_result",
          "data": {
            "text/plain": [
              "{'max_features': 'sqrt'}"
            ]
          },
          "metadata": {},
          "execution_count": 87
        }
      ]
    },
    {
      "cell_type": "code",
      "source": [
        "models['Ridge regression'].best_params_"
      ],
      "metadata": {
        "colab": {
          "base_uri": "https://localhost:8080/"
        },
        "outputId": "2905f835-8efa-4282-a750-55ca0b33eee3",
        "id": "8FL4vRZzWyci"
      },
      "execution_count": 88,
      "outputs": [
        {
          "output_type": "execute_result",
          "data": {
            "text/plain": [
              "{'alpha': 0.05}"
            ]
          },
          "metadata": {},
          "execution_count": 88
        }
      ]
    },
    {
      "cell_type": "code",
      "source": [
        "trained_models_dict = {}\n",
        "trained_models_dict['Random forest'] = models['Random forest'].best_estimator_\n",
        "trained_models_dict['Decision tree'] = models['Decision tree'].best_estimator_\n",
        "trained_models_dict['Ridge regression'] = models['Ridge regression'].best_estimator_\n",
        "trained_models_dict['Linear regression'] = models['Linear regression'][0]\n",
        "trained_models_dict"
      ],
      "metadata": {
        "colab": {
          "base_uri": "https://localhost:8080/"
        },
        "id": "dLnRxApNoHql",
        "outputId": "16e7ffc7-0bdf-4109-fc13-a4e4f3fc583d"
      },
      "execution_count": 89,
      "outputs": [
        {
          "output_type": "execute_result",
          "data": {
            "text/plain": [
              "{'Decision tree': DecisionTreeRegressor(max_features='sqrt', random_state=42),\n",
              " 'Linear regression': LinearRegression(),\n",
              " 'Random forest': RandomForestRegressor(max_features=0.3333333333333333, n_estimators=200,\n",
              "                       random_state=42),\n",
              " 'Ridge regression': Ridge(alpha=0.05)}"
            ]
          },
          "metadata": {},
          "execution_count": 89
        }
      ]
    },
    {
      "cell_type": "code",
      "source": [
        "test_set_scores = evaluate_all_models(X_test, Y_test, trained_models_dict)\n",
        "test_set_scores"
      ],
      "metadata": {
        "colab": {
          "base_uri": "https://localhost:8080/"
        },
        "id": "EfVISaOboNSl",
        "outputId": "c0ebe719-a5d1-47d1-f776-f23d5b3ce24f"
      },
      "execution_count": 90,
      "outputs": [
        {
          "output_type": "execute_result",
          "data": {
            "text/plain": [
              "{'Decision tree': 26.54833333333334,\n",
              " 'Linear regression': 24.68042552557484,\n",
              " 'Random forest': 9.93215186138343,\n",
              " 'Ridge regression': 24.682874584788507}"
            ]
          },
          "metadata": {},
          "execution_count": 90
        }
      ]
    },
    {
      "cell_type": "code",
      "source": [
        "combined_dict = {k: [np.abs(v), test_set_scores[k]] for k, v in cv_scores.items()}\n",
        "combined_dict"
      ],
      "metadata": {
        "id": "9GziWOu0oVZ9",
        "colab": {
          "base_uri": "https://localhost:8080/"
        },
        "outputId": "e182ce80-8076-4733-ef8b-3b6d1effa273"
      },
      "execution_count": 91,
      "outputs": [
        {
          "output_type": "execute_result",
          "data": {
            "text/plain": [
              "{'Decision tree': [32.231269209508014, 26.54833333333334],\n",
              " 'Linear regression': [25.378359230504387, 24.68042552557484],\n",
              " 'Random forest': [15.918191783121422, 9.93215186138343],\n",
              " 'Ridge regression': [25.37805381449424, 24.682874584788507]}"
            ]
          },
          "metadata": {},
          "execution_count": 91
        }
      ]
    },
    {
      "cell_type": "code",
      "source": [
        "scores_df = pd.DataFrame.from_dict(combined_dict, orient='index', columns=['CV score', 'Test set score'])\n",
        "scores_df"
      ],
      "metadata": {
        "colab": {
          "base_uri": "https://localhost:8080/",
          "height": 175
        },
        "outputId": "5bce1981-5802-4ea6-9ad0-da2bc89f543f",
        "id": "--9t18bpoVZ-"
      },
      "execution_count": 92,
      "outputs": [
        {
          "output_type": "execute_result",
          "data": {
            "text/html": [
              "\n",
              "  <div id=\"df-52a40aa9-5dfc-4dae-9f9b-1d945977978b\">\n",
              "    <div class=\"colab-df-container\">\n",
              "      <div>\n",
              "<style scoped>\n",
              "    .dataframe tbody tr th:only-of-type {\n",
              "        vertical-align: middle;\n",
              "    }\n",
              "\n",
              "    .dataframe tbody tr th {\n",
              "        vertical-align: top;\n",
              "    }\n",
              "\n",
              "    .dataframe thead th {\n",
              "        text-align: right;\n",
              "    }\n",
              "</style>\n",
              "<table border=\"1\" class=\"dataframe\">\n",
              "  <thead>\n",
              "    <tr style=\"text-align: right;\">\n",
              "      <th></th>\n",
              "      <th>CV score</th>\n",
              "      <th>Test set score</th>\n",
              "    </tr>\n",
              "  </thead>\n",
              "  <tbody>\n",
              "    <tr>\n",
              "      <th>Random forest</th>\n",
              "      <td>15.918192</td>\n",
              "      <td>9.932152</td>\n",
              "    </tr>\n",
              "    <tr>\n",
              "      <th>Decision tree</th>\n",
              "      <td>32.231269</td>\n",
              "      <td>26.548333</td>\n",
              "    </tr>\n",
              "    <tr>\n",
              "      <th>Ridge regression</th>\n",
              "      <td>25.378054</td>\n",
              "      <td>24.682875</td>\n",
              "    </tr>\n",
              "    <tr>\n",
              "      <th>Linear regression</th>\n",
              "      <td>25.378359</td>\n",
              "      <td>24.680426</td>\n",
              "    </tr>\n",
              "  </tbody>\n",
              "</table>\n",
              "</div>\n",
              "      <button class=\"colab-df-convert\" onclick=\"convertToInteractive('df-52a40aa9-5dfc-4dae-9f9b-1d945977978b')\"\n",
              "              title=\"Convert this dataframe to an interactive table.\"\n",
              "              style=\"display:none;\">\n",
              "        \n",
              "  <svg xmlns=\"http://www.w3.org/2000/svg\" height=\"24px\"viewBox=\"0 0 24 24\"\n",
              "       width=\"24px\">\n",
              "    <path d=\"M0 0h24v24H0V0z\" fill=\"none\"/>\n",
              "    <path d=\"M18.56 5.44l.94 2.06.94-2.06 2.06-.94-2.06-.94-.94-2.06-.94 2.06-2.06.94zm-11 1L8.5 8.5l.94-2.06 2.06-.94-2.06-.94L8.5 2.5l-.94 2.06-2.06.94zm10 10l.94 2.06.94-2.06 2.06-.94-2.06-.94-.94-2.06-.94 2.06-2.06.94z\"/><path d=\"M17.41 7.96l-1.37-1.37c-.4-.4-.92-.59-1.43-.59-.52 0-1.04.2-1.43.59L10.3 9.45l-7.72 7.72c-.78.78-.78 2.05 0 2.83L4 21.41c.39.39.9.59 1.41.59.51 0 1.02-.2 1.41-.59l7.78-7.78 2.81-2.81c.8-.78.8-2.07 0-2.86zM5.41 20L4 18.59l7.72-7.72 1.47 1.35L5.41 20z\"/>\n",
              "  </svg>\n",
              "      </button>\n",
              "      \n",
              "  <style>\n",
              "    .colab-df-container {\n",
              "      display:flex;\n",
              "      flex-wrap:wrap;\n",
              "      gap: 12px;\n",
              "    }\n",
              "\n",
              "    .colab-df-convert {\n",
              "      background-color: #E8F0FE;\n",
              "      border: none;\n",
              "      border-radius: 50%;\n",
              "      cursor: pointer;\n",
              "      display: none;\n",
              "      fill: #1967D2;\n",
              "      height: 32px;\n",
              "      padding: 0 0 0 0;\n",
              "      width: 32px;\n",
              "    }\n",
              "\n",
              "    .colab-df-convert:hover {\n",
              "      background-color: #E2EBFA;\n",
              "      box-shadow: 0px 1px 2px rgba(60, 64, 67, 0.3), 0px 1px 3px 1px rgba(60, 64, 67, 0.15);\n",
              "      fill: #174EA6;\n",
              "    }\n",
              "\n",
              "    [theme=dark] .colab-df-convert {\n",
              "      background-color: #3B4455;\n",
              "      fill: #D2E3FC;\n",
              "    }\n",
              "\n",
              "    [theme=dark] .colab-df-convert:hover {\n",
              "      background-color: #434B5C;\n",
              "      box-shadow: 0px 1px 3px 1px rgba(0, 0, 0, 0.15);\n",
              "      filter: drop-shadow(0px 1px 2px rgba(0, 0, 0, 0.3));\n",
              "      fill: #FFFFFF;\n",
              "    }\n",
              "  </style>\n",
              "\n",
              "      <script>\n",
              "        const buttonEl =\n",
              "          document.querySelector('#df-52a40aa9-5dfc-4dae-9f9b-1d945977978b button.colab-df-convert');\n",
              "        buttonEl.style.display =\n",
              "          google.colab.kernel.accessAllowed ? 'block' : 'none';\n",
              "\n",
              "        async function convertToInteractive(key) {\n",
              "          const element = document.querySelector('#df-52a40aa9-5dfc-4dae-9f9b-1d945977978b');\n",
              "          const dataTable =\n",
              "            await google.colab.kernel.invokeFunction('convertToInteractive',\n",
              "                                                     [key], {});\n",
              "          if (!dataTable) return;\n",
              "\n",
              "          const docLinkHtml = 'Like what you see? Visit the ' +\n",
              "            '<a target=\"_blank\" href=https://colab.research.google.com/notebooks/data_table.ipynb>data table notebook</a>'\n",
              "            + ' to learn more about interactive tables.';\n",
              "          element.innerHTML = '';\n",
              "          dataTable['output_type'] = 'display_data';\n",
              "          await google.colab.output.renderOutput(dataTable, element);\n",
              "          const docLink = document.createElement('div');\n",
              "          docLink.innerHTML = docLinkHtml;\n",
              "          element.appendChild(docLink);\n",
              "        }\n",
              "      </script>\n",
              "    </div>\n",
              "  </div>\n",
              "  "
            ],
            "text/plain": [
              "                    CV score  Test set score\n",
              "Random forest      15.918192        9.932152\n",
              "Decision tree      32.231269       26.548333\n",
              "Ridge regression   25.378054       24.682875\n",
              "Linear regression  25.378359       24.680426"
            ]
          },
          "metadata": {},
          "execution_count": 92
        }
      ]
    },
    {
      "cell_type": "markdown",
      "metadata": {
        "id": "IlOB5zvlFtQL"
      },
      "source": [
        "### Feature importance\n",
        "\n",
        "Let's find the importance of all features for each model and remove insignificant features:"
      ]
    },
    {
      "cell_type": "code",
      "source": [
        "feature_importance_dict = {}"
      ],
      "metadata": {
        "id": "us-fyHw-GhP-"
      },
      "execution_count": 93,
      "outputs": []
    },
    {
      "cell_type": "markdown",
      "source": [
        "#### Tree based methods"
      ],
      "metadata": {
        "id": "jl-WQpBxG49h"
      }
    },
    {
      "cell_type": "markdown",
      "source": [
        "For tree based models we can use SKLearn's built-in methods:"
      ],
      "metadata": {
        "id": "RGXBBs4QGHZX"
      }
    },
    {
      "cell_type": "code",
      "source": [
        "def find_tree_feature_importance(model, columns):\n",
        "  importance = model.feature_importances_\n",
        "  importance *= 100 / np.max(importance)  # Normalize\n",
        "  importance = pd.DataFrame(importance, index=columns, columns=[\"Importance\"])\n",
        "  importance = importance.sort_values(by=['Importance'], ascending=False)\n",
        "  return importance"
      ],
      "metadata": {
        "id": "6tLPrIAzGMYS"
      },
      "execution_count": 94,
      "outputs": []
    },
    {
      "cell_type": "code",
      "source": [
        "feature_importance_dict['Random forest'] = find_tree_feature_importance(trained_models_dict['Random forest'], X_train.columns)\n",
        "feature_importance_dict['Decision tree'] = find_tree_feature_importance(trained_models_dict['Decision tree'], X_train.columns)"
      ],
      "metadata": {
        "id": "Y2MCkIZDGS6s"
      },
      "execution_count": 95,
      "outputs": []
    },
    {
      "cell_type": "markdown",
      "source": [
        "#### Classical regression methods"
      ],
      "metadata": {
        "id": "eqYG1lEsG8Aa"
      }
    },
    {
      "cell_type": "markdown",
      "source": [
        "One interpetation of feature importance for linear/ridge regression, is the normalized value of the estimator's coefficients:"
      ],
      "metadata": {
        "id": "aIP2pF1pG_lB"
      }
    },
    {
      "cell_type": "code",
      "source": [
        "def find_normalized_lr_feautre_importance(model, x_train):\n",
        "  coefficients = {x_train.columns[i]: np.abs(model.coef_[i]) for i in range(len(x_train.columns))}\n",
        "  coefficients_df = pd.DataFrame.from_dict(coefficients, orient='index', columns=['Importance'])\n",
        "  coefficients_df['Importance'] *=  x_train.std()\n",
        "  coefficients_df['Importance'] *= 100 / coefficients_df['Importance'] .max()\n",
        "  importance = coefficients_df.sort_values(by=['Importance'], ascending=False)\n",
        "  return importance"
      ],
      "metadata": {
        "id": "-e19JailHJ39"
      },
      "execution_count": 96,
      "outputs": []
    },
    {
      "cell_type": "code",
      "source": [
        "feature_importance_dict['Linear regression'] = find_normalized_lr_feautre_importance(trained_models_dict['Linear regression'], X_train)\n",
        "feature_importance_dict['Ridge regression'] = find_normalized_lr_feautre_importance(trained_models_dict['Ridge regression'], X_train)"
      ],
      "metadata": {
        "id": "hGrXJvRcHMRE"
      },
      "execution_count": 97,
      "outputs": []
    },
    {
      "cell_type": "markdown",
      "source": [
        "#### Comparison"
      ],
      "metadata": {
        "id": "aFVaV87mICFL"
      }
    },
    {
      "cell_type": "markdown",
      "source": [
        "Let's visualize the different feature imprtance across the models:"
      ],
      "metadata": {
        "id": "m98QpfuSIEQQ"
      }
    },
    {
      "cell_type": "code",
      "source": [
        "sns.set()\n",
        "\n",
        "fig, axes = plt.subplots(2, 2, figsize=(12, 12))\n",
        "feature_importance_dict['Random forest'].plot(kind='barh', ax=axes[0, 0], legend=False, title='Random forest')\n",
        "feature_importance_dict['Decision tree'].plot(kind='barh', ax=axes[0, 1], legend=False, title='Decision tree')\n",
        "feature_importance_dict['Linear regression'].plot(kind='barh', ax=axes[1, 0], legend=False, title='Linear regression')\n",
        "feature_importance_dict['Ridge regression'].plot(kind='barh', ax=axes[1, 1], legend=False, title='Ridge regression')"
      ],
      "metadata": {
        "colab": {
          "base_uri": "https://localhost:8080/",
          "height": 736
        },
        "id": "-dynYPS0IIYz",
        "outputId": "1380dde6-32da-4e3e-ae77-0752d97aead1"
      },
      "execution_count": 98,
      "outputs": [
        {
          "output_type": "execute_result",
          "data": {
            "text/plain": [
              "<matplotlib.axes._subplots.AxesSubplot at 0x7fcbac23c4d0>"
            ]
          },
          "metadata": {},
          "execution_count": 98
        },
        {
          "output_type": "display_data",
          "data": {
            "image/png": "[encoded data removed]",
            "text/plain": [
              "<Figure size 864x864 with 4 Axes>"
            ]
          },
          "metadata": {}
        }
      ]
    },
    {
      "cell_type": "markdown",
      "source": [
        "#### Removing weak features"
      ],
      "metadata": {
        "id": "iZzTH87uLl0f"
      }
    },
    {
      "cell_type": "markdown",
      "source": [
        "Let's find the 3 weakest features in each model:"
      ],
      "metadata": {
        "id": "tmchGmPzXs96"
      }
    },
    {
      "cell_type": "code",
      "source": [
        "weak_features_dict = {}\n",
        "for k, v in feature_importance_dict.items():\n",
        "  weak_features_dict[k] = list(v.index.values[-3:])\n",
        "weak_features_dict"
      ],
      "metadata": {
        "colab": {
          "base_uri": "https://localhost:8080/"
        },
        "id": "g9HhllWFYYZl",
        "outputId": "a379c8ef-0c7e-4134-c77e-357cfa585466"
      },
      "execution_count": 99,
      "outputs": [
        {
          "output_type": "execute_result",
          "data": {
            "text/plain": [
              "{'Decision tree': ['TAX', 'RAD', 'CHAS'],\n",
              " 'Linear regression': ['ZN', 'AGE', 'INDUS'],\n",
              " 'Random forest': ['CHAS', 'RAD', 'ZN'],\n",
              " 'Ridge regression': ['ZN', 'AGE', 'INDUS']}"
            ]
          },
          "metadata": {},
          "execution_count": 99
        }
      ]
    },
    {
      "cell_type": "markdown",
      "source": [
        "And remove these features from each model. We create a dictionary mapping each model to X_train and X_test without the last 3 features:"
      ],
      "metadata": {
        "id": "J_miQIU6Y7g2"
      }
    },
    {
      "cell_type": "code",
      "source": [
        "x_data_dict = {}\n",
        "for k, v in weak_features_dict.items():\n",
        "  x_data_dict[k] = (X_train.drop(v, axis=1), X_test.drop(v, axis=1))"
      ],
      "metadata": {
        "id": "wX5rb2L1Y-4M"
      },
      "execution_count": 102,
      "outputs": []
    },
    {
      "cell_type": "markdown",
      "source": [
        "Verify:"
      ],
      "metadata": {
        "id": "i9wdtxqHZkH1"
      }
    },
    {
      "cell_type": "code",
      "source": [
        "x_data_dict['Random forest'][0]"
      ],
      "metadata": {
        "colab": {
          "base_uri": "https://localhost:8080/",
          "height": 423
        },
        "id": "tEeTsVmRZe6V",
        "outputId": "976a3036-56dc-4324-b392-4bf4bc80bc21"
      },
      "execution_count": 103,
      "outputs": [
        {
          "output_type": "execute_result",
          "data": {
            "text/html": [
              "\n",
              "  <div id=\"df-7e7dd298-68e4-4b37-a1a9-8bb327b12410\">\n",
              "    <div class=\"colab-df-container\">\n",
              "      <div>\n",
              "<style scoped>\n",
              "    .dataframe tbody tr th:only-of-type {\n",
              "        vertical-align: middle;\n",
              "    }\n",
              "\n",
              "    .dataframe tbody tr th {\n",
              "        vertical-align: top;\n",
              "    }\n",
              "\n",
              "    .dataframe thead th {\n",
              "        text-align: right;\n",
              "    }\n",
              "</style>\n",
              "<table border=\"1\" class=\"dataframe\">\n",
              "  <thead>\n",
              "    <tr style=\"text-align: right;\">\n",
              "      <th></th>\n",
              "      <th>CRIM</th>\n",
              "      <th>INDUS</th>\n",
              "      <th>NOX</th>\n",
              "      <th>RM</th>\n",
              "      <th>AGE</th>\n",
              "      <th>DIS</th>\n",
              "      <th>TAX</th>\n",
              "      <th>PTRATIO</th>\n",
              "      <th>LSTAT</th>\n",
              "    </tr>\n",
              "  </thead>\n",
              "  <tbody>\n",
              "    <tr>\n",
              "      <th>477</th>\n",
              "      <td>15.02340</td>\n",
              "      <td>18.10</td>\n",
              "      <td>0.6140</td>\n",
              "      <td>5.304</td>\n",
              "      <td>97.3</td>\n",
              "      <td>2.1007</td>\n",
              "      <td>666</td>\n",
              "      <td>20.2</td>\n",
              "      <td>24.91</td>\n",
              "    </tr>\n",
              "    <tr>\n",
              "      <th>15</th>\n",
              "      <td>0.62739</td>\n",
              "      <td>8.14</td>\n",
              "      <td>0.5380</td>\n",
              "      <td>5.834</td>\n",
              "      <td>56.5</td>\n",
              "      <td>4.4986</td>\n",
              "      <td>307</td>\n",
              "      <td>21.0</td>\n",
              "      <td>8.47</td>\n",
              "    </tr>\n",
              "    <tr>\n",
              "      <th>332</th>\n",
              "      <td>0.03466</td>\n",
              "      <td>6.06</td>\n",
              "      <td>0.4379</td>\n",
              "      <td>6.031</td>\n",
              "      <td>23.3</td>\n",
              "      <td>6.6407</td>\n",
              "      <td>304</td>\n",
              "      <td>16.9</td>\n",
              "      <td>7.83</td>\n",
              "    </tr>\n",
              "    <tr>\n",
              "      <th>423</th>\n",
              "      <td>7.05042</td>\n",
              "      <td>18.10</td>\n",
              "      <td>0.6140</td>\n",
              "      <td>6.103</td>\n",
              "      <td>0.0</td>\n",
              "      <td>2.0218</td>\n",
              "      <td>666</td>\n",
              "      <td>20.2</td>\n",
              "      <td>23.29</td>\n",
              "    </tr>\n",
              "    <tr>\n",
              "      <th>19</th>\n",
              "      <td>0.72580</td>\n",
              "      <td>8.14</td>\n",
              "      <td>0.5380</td>\n",
              "      <td>5.727</td>\n",
              "      <td>69.5</td>\n",
              "      <td>3.7965</td>\n",
              "      <td>307</td>\n",
              "      <td>21.0</td>\n",
              "      <td>11.28</td>\n",
              "    </tr>\n",
              "    <tr>\n",
              "      <th>...</th>\n",
              "      <td>...</td>\n",
              "      <td>...</td>\n",
              "      <td>...</td>\n",
              "      <td>...</td>\n",
              "      <td>...</td>\n",
              "      <td>...</td>\n",
              "      <td>...</td>\n",
              "      <td>...</td>\n",
              "      <td>...</td>\n",
              "    </tr>\n",
              "    <tr>\n",
              "      <th>106</th>\n",
              "      <td>0.17120</td>\n",
              "      <td>8.56</td>\n",
              "      <td>0.5200</td>\n",
              "      <td>5.836</td>\n",
              "      <td>91.9</td>\n",
              "      <td>2.2110</td>\n",
              "      <td>384</td>\n",
              "      <td>20.9</td>\n",
              "      <td>18.66</td>\n",
              "    </tr>\n",
              "    <tr>\n",
              "      <th>270</th>\n",
              "      <td>0.29916</td>\n",
              "      <td>6.96</td>\n",
              "      <td>0.4640</td>\n",
              "      <td>5.856</td>\n",
              "      <td>42.1</td>\n",
              "      <td>4.4290</td>\n",
              "      <td>223</td>\n",
              "      <td>18.6</td>\n",
              "      <td>13.00</td>\n",
              "    </tr>\n",
              "    <tr>\n",
              "      <th>348</th>\n",
              "      <td>0.01501</td>\n",
              "      <td>2.01</td>\n",
              "      <td>0.4350</td>\n",
              "      <td>6.635</td>\n",
              "      <td>29.7</td>\n",
              "      <td>8.3440</td>\n",
              "      <td>280</td>\n",
              "      <td>17.0</td>\n",
              "      <td>5.99</td>\n",
              "    </tr>\n",
              "    <tr>\n",
              "      <th>435</th>\n",
              "      <td>11.16040</td>\n",
              "      <td>18.10</td>\n",
              "      <td>0.7400</td>\n",
              "      <td>6.629</td>\n",
              "      <td>94.6</td>\n",
              "      <td>2.1247</td>\n",
              "      <td>666</td>\n",
              "      <td>20.2</td>\n",
              "      <td>23.27</td>\n",
              "    </tr>\n",
              "    <tr>\n",
              "      <th>102</th>\n",
              "      <td>0.22876</td>\n",
              "      <td>8.56</td>\n",
              "      <td>0.5200</td>\n",
              "      <td>6.405</td>\n",
              "      <td>85.4</td>\n",
              "      <td>2.7147</td>\n",
              "      <td>384</td>\n",
              "      <td>20.9</td>\n",
              "      <td>10.63</td>\n",
              "    </tr>\n",
              "  </tbody>\n",
              "</table>\n",
              "<p>404 rows × 9 columns</p>\n",
              "</div>\n",
              "      <button class=\"colab-df-convert\" onclick=\"convertToInteractive('df-7e7dd298-68e4-4b37-a1a9-8bb327b12410')\"\n",
              "              title=\"Convert this dataframe to an interactive table.\"\n",
              "              style=\"display:none;\">\n",
              "        \n",
              "  <svg xmlns=\"http://www.w3.org/2000/svg\" height=\"24px\"viewBox=\"0 0 24 24\"\n",
              "       width=\"24px\">\n",
              "    <path d=\"M0 0h24v24H0V0z\" fill=\"none\"/>\n",
              "    <path d=\"M18.56 5.44l.94 2.06.94-2.06 2.06-.94-2.06-.94-.94-2.06-.94 2.06-2.06.94zm-11 1L8.5 8.5l.94-2.06 2.06-.94-2.06-.94L8.5 2.5l-.94 2.06-2.06.94zm10 10l.94 2.06.94-2.06 2.06-.94-2.06-.94-.94-2.06-.94 2.06-2.06.94z\"/><path d=\"M17.41 7.96l-1.37-1.37c-.4-.4-.92-.59-1.43-.59-.52 0-1.04.2-1.43.59L10.3 9.45l-7.72 7.72c-.78.78-.78 2.05 0 2.83L4 21.41c.39.39.9.59 1.41.59.51 0 1.02-.2 1.41-.59l7.78-7.78 2.81-2.81c.8-.78.8-2.07 0-2.86zM5.41 20L4 18.59l7.72-7.72 1.47 1.35L5.41 20z\"/>\n",
              "  </svg>\n",
              "      </button>\n",
              "      \n",
              "  <style>\n",
              "    .colab-df-container {\n",
              "      display:flex;\n",
              "      flex-wrap:wrap;\n",
              "      gap: 12px;\n",
              "    }\n",
              "\n",
              "    .colab-df-convert {\n",
              "      background-color: #E8F0FE;\n",
              "      border: none;\n",
              "      border-radius: 50%;\n",
              "      cursor: pointer;\n",
              "      display: none;\n",
              "      fill: #1967D2;\n",
              "      height: 32px;\n",
              "      padding: 0 0 0 0;\n",
              "      width: 32px;\n",
              "    }\n",
              "\n",
              "    .colab-df-convert:hover {\n",
              "      background-color: #E2EBFA;\n",
              "      box-shadow: 0px 1px 2px rgba(60, 64, 67, 0.3), 0px 1px 3px 1px rgba(60, 64, 67, 0.15);\n",
              "      fill: #174EA6;\n",
              "    }\n",
              "\n",
              "    [theme=dark] .colab-df-convert {\n",
              "      background-color: #3B4455;\n",
              "      fill: #D2E3FC;\n",
              "    }\n",
              "\n",
              "    [theme=dark] .colab-df-convert:hover {\n",
              "      background-color: #434B5C;\n",
              "      box-shadow: 0px 1px 3px 1px rgba(0, 0, 0, 0.15);\n",
              "      filter: drop-shadow(0px 1px 2px rgba(0, 0, 0, 0.3));\n",
              "      fill: #FFFFFF;\n",
              "    }\n",
              "  </style>\n",
              "\n",
              "      <script>\n",
              "        const buttonEl =\n",
              "          document.querySelector('#df-7e7dd298-68e4-4b37-a1a9-8bb327b12410 button.colab-df-convert');\n",
              "        buttonEl.style.display =\n",
              "          google.colab.kernel.accessAllowed ? 'block' : 'none';\n",
              "\n",
              "        async function convertToInteractive(key) {\n",
              "          const element = document.querySelector('#df-7e7dd298-68e4-4b37-a1a9-8bb327b12410');\n",
              "          const dataTable =\n",
              "            await google.colab.kernel.invokeFunction('convertToInteractive',\n",
              "                                                     [key], {});\n",
              "          if (!dataTable) return;\n",
              "\n",
              "          const docLinkHtml = 'Like what you see? Visit the ' +\n",
              "            '<a target=\"_blank\" href=https://colab.research.google.com/notebooks/data_table.ipynb>data table notebook</a>'\n",
              "            + ' to learn more about interactive tables.';\n",
              "          element.innerHTML = '';\n",
              "          dataTable['output_type'] = 'display_data';\n",
              "          await google.colab.output.renderOutput(dataTable, element);\n",
              "          const docLink = document.createElement('div');\n",
              "          docLink.innerHTML = docLinkHtml;\n",
              "          element.appendChild(docLink);\n",
              "        }\n",
              "      </script>\n",
              "    </div>\n",
              "  </div>\n",
              "  "
            ],
            "text/plain": [
              "         CRIM  INDUS     NOX     RM   AGE     DIS  TAX  PTRATIO  LSTAT\n",
              "477  15.02340  18.10  0.6140  5.304  97.3  2.1007  666     20.2  24.91\n",
              "15    0.62739   8.14  0.5380  5.834  56.5  4.4986  307     21.0   8.47\n",
              "332   0.03466   6.06  0.4379  6.031  23.3  6.6407  304     16.9   7.83\n",
              "423   7.05042  18.10  0.6140  6.103   0.0  2.0218  666     20.2  23.29\n",
              "19    0.72580   8.14  0.5380  5.727  69.5  3.7965  307     21.0  11.28\n",
              "..        ...    ...     ...    ...   ...     ...  ...      ...    ...\n",
              "106   0.17120   8.56  0.5200  5.836  91.9  2.2110  384     20.9  18.66\n",
              "270   0.29916   6.96  0.4640  5.856  42.1  4.4290  223     18.6  13.00\n",
              "348   0.01501   2.01  0.4350  6.635  29.7  8.3440  280     17.0   5.99\n",
              "435  11.16040  18.10  0.7400  6.629  94.6  2.1247  666     20.2  23.27\n",
              "102   0.22876   8.56  0.5200  6.405  85.4  2.7147  384     20.9  10.63\n",
              "\n",
              "[404 rows x 9 columns]"
            ]
          },
          "metadata": {},
          "execution_count": 103
        }
      ]
    },
    {
      "cell_type": "code",
      "source": [
        "x_data_dict['Random forest'][1]"
      ],
      "metadata": {
        "colab": {
          "base_uri": "https://localhost:8080/",
          "height": 423
        },
        "id": "xPiPiIPZZiYN",
        "outputId": "16b7ffec-372d-45f5-e319-d88e03a44acb"
      },
      "execution_count": 105,
      "outputs": [
        {
          "output_type": "execute_result",
          "data": {
            "text/html": [
              "\n",
              "  <div id=\"df-02838391-d5ea-4604-8b75-786e5c8888de\">\n",
              "    <div class=\"colab-df-container\">\n",
              "      <div>\n",
              "<style scoped>\n",
              "    .dataframe tbody tr th:only-of-type {\n",
              "        vertical-align: middle;\n",
              "    }\n",
              "\n",
              "    .dataframe tbody tr th {\n",
              "        vertical-align: top;\n",
              "    }\n",
              "\n",
              "    .dataframe thead th {\n",
              "        text-align: right;\n",
              "    }\n",
              "</style>\n",
              "<table border=\"1\" class=\"dataframe\">\n",
              "  <thead>\n",
              "    <tr style=\"text-align: right;\">\n",
              "      <th></th>\n",
              "      <th>CRIM</th>\n",
              "      <th>INDUS</th>\n",
              "      <th>NOX</th>\n",
              "      <th>RM</th>\n",
              "      <th>AGE</th>\n",
              "      <th>DIS</th>\n",
              "      <th>TAX</th>\n",
              "      <th>PTRATIO</th>\n",
              "      <th>LSTAT</th>\n",
              "    </tr>\n",
              "  </thead>\n",
              "  <tbody>\n",
              "    <tr>\n",
              "      <th>173</th>\n",
              "      <td>0.09178</td>\n",
              "      <td>0.00</td>\n",
              "      <td>0.510</td>\n",
              "      <td>6.416</td>\n",
              "      <td>0.0</td>\n",
              "      <td>2.6463</td>\n",
              "      <td>296</td>\n",
              "      <td>16.6</td>\n",
              "      <td>9.04</td>\n",
              "    </tr>\n",
              "    <tr>\n",
              "      <th>274</th>\n",
              "      <td>0.05644</td>\n",
              "      <td>6.41</td>\n",
              "      <td>0.447</td>\n",
              "      <td>6.758</td>\n",
              "      <td>32.9</td>\n",
              "      <td>4.0776</td>\n",
              "      <td>254</td>\n",
              "      <td>17.6</td>\n",
              "      <td>3.53</td>\n",
              "    </tr>\n",
              "    <tr>\n",
              "      <th>491</th>\n",
              "      <td>0.10574</td>\n",
              "      <td>27.74</td>\n",
              "      <td>0.609</td>\n",
              "      <td>5.983</td>\n",
              "      <td>98.8</td>\n",
              "      <td>1.8681</td>\n",
              "      <td>711</td>\n",
              "      <td>20.1</td>\n",
              "      <td>18.07</td>\n",
              "    </tr>\n",
              "    <tr>\n",
              "      <th>72</th>\n",
              "      <td>0.09164</td>\n",
              "      <td>10.81</td>\n",
              "      <td>0.413</td>\n",
              "      <td>6.065</td>\n",
              "      <td>7.8</td>\n",
              "      <td>5.2873</td>\n",
              "      <td>305</td>\n",
              "      <td>19.2</td>\n",
              "      <td>5.52</td>\n",
              "    </tr>\n",
              "    <tr>\n",
              "      <th>452</th>\n",
              "      <td>5.09017</td>\n",
              "      <td>18.10</td>\n",
              "      <td>0.713</td>\n",
              "      <td>6.297</td>\n",
              "      <td>91.8</td>\n",
              "      <td>2.3682</td>\n",
              "      <td>666</td>\n",
              "      <td>20.2</td>\n",
              "      <td>17.27</td>\n",
              "    </tr>\n",
              "    <tr>\n",
              "      <th>...</th>\n",
              "      <td>...</td>\n",
              "      <td>...</td>\n",
              "      <td>...</td>\n",
              "      <td>...</td>\n",
              "      <td>...</td>\n",
              "      <td>...</td>\n",
              "      <td>...</td>\n",
              "      <td>...</td>\n",
              "      <td>...</td>\n",
              "    </tr>\n",
              "    <tr>\n",
              "      <th>412</th>\n",
              "      <td>18.81100</td>\n",
              "      <td>18.10</td>\n",
              "      <td>0.597</td>\n",
              "      <td>4.628</td>\n",
              "      <td>100.0</td>\n",
              "      <td>1.5539</td>\n",
              "      <td>666</td>\n",
              "      <td>20.2</td>\n",
              "      <td>34.37</td>\n",
              "    </tr>\n",
              "    <tr>\n",
              "      <th>436</th>\n",
              "      <td>14.42080</td>\n",
              "      <td>18.10</td>\n",
              "      <td>0.740</td>\n",
              "      <td>6.461</td>\n",
              "      <td>93.3</td>\n",
              "      <td>2.0026</td>\n",
              "      <td>666</td>\n",
              "      <td>20.2</td>\n",
              "      <td>18.05</td>\n",
              "    </tr>\n",
              "    <tr>\n",
              "      <th>411</th>\n",
              "      <td>14.05070</td>\n",
              "      <td>18.10</td>\n",
              "      <td>0.597</td>\n",
              "      <td>6.657</td>\n",
              "      <td>100.0</td>\n",
              "      <td>1.5275</td>\n",
              "      <td>666</td>\n",
              "      <td>20.2</td>\n",
              "      <td>21.22</td>\n",
              "    </tr>\n",
              "    <tr>\n",
              "      <th>86</th>\n",
              "      <td>0.05188</td>\n",
              "      <td>4.49</td>\n",
              "      <td>0.449</td>\n",
              "      <td>6.015</td>\n",
              "      <td>45.1</td>\n",
              "      <td>4.4272</td>\n",
              "      <td>247</td>\n",
              "      <td>18.5</td>\n",
              "      <td>12.86</td>\n",
              "    </tr>\n",
              "    <tr>\n",
              "      <th>75</th>\n",
              "      <td>0.09512</td>\n",
              "      <td>12.83</td>\n",
              "      <td>0.437</td>\n",
              "      <td>6.286</td>\n",
              "      <td>45.0</td>\n",
              "      <td>4.5026</td>\n",
              "      <td>398</td>\n",
              "      <td>18.7</td>\n",
              "      <td>8.94</td>\n",
              "    </tr>\n",
              "  </tbody>\n",
              "</table>\n",
              "<p>102 rows × 9 columns</p>\n",
              "</div>\n",
              "      <button class=\"colab-df-convert\" onclick=\"convertToInteractive('df-02838391-d5ea-4604-8b75-786e5c8888de')\"\n",
              "              title=\"Convert this dataframe to an interactive table.\"\n",
              "              style=\"display:none;\">\n",
              "        \n",
              "  <svg xmlns=\"http://www.w3.org/2000/svg\" height=\"24px\"viewBox=\"0 0 24 24\"\n",
              "       width=\"24px\">\n",
              "    <path d=\"M0 0h24v24H0V0z\" fill=\"none\"/>\n",
              "    <path d=\"M18.56 5.44l.94 2.06.94-2.06 2.06-.94-2.06-.94-.94-2.06-.94 2.06-2.06.94zm-11 1L8.5 8.5l.94-2.06 2.06-.94-2.06-.94L8.5 2.5l-.94 2.06-2.06.94zm10 10l.94 2.06.94-2.06 2.06-.94-2.06-.94-.94-2.06-.94 2.06-2.06.94z\"/><path d=\"M17.41 7.96l-1.37-1.37c-.4-.4-.92-.59-1.43-.59-.52 0-1.04.2-1.43.59L10.3 9.45l-7.72 7.72c-.78.78-.78 2.05 0 2.83L4 21.41c.39.39.9.59 1.41.59.51 0 1.02-.2 1.41-.59l7.78-7.78 2.81-2.81c.8-.78.8-2.07 0-2.86zM5.41 20L4 18.59l7.72-7.72 1.47 1.35L5.41 20z\"/>\n",
              "  </svg>\n",
              "      </button>\n",
              "      \n",
              "  <style>\n",
              "    .colab-df-container {\n",
              "      display:flex;\n",
              "      flex-wrap:wrap;\n",
              "      gap: 12px;\n",
              "    }\n",
              "\n",
              "    .colab-df-convert {\n",
              "      background-color: #E8F0FE;\n",
              "      border: none;\n",
              "      border-radius: 50%;\n",
              "      cursor: pointer;\n",
              "      display: none;\n",
              "      fill: #1967D2;\n",
              "      height: 32px;\n",
              "      padding: 0 0 0 0;\n",
              "      width: 32px;\n",
              "    }\n",
              "\n",
              "    .colab-df-convert:hover {\n",
              "      background-color: #E2EBFA;\n",
              "      box-shadow: 0px 1px 2px rgba(60, 64, 67, 0.3), 0px 1px 3px 1px rgba(60, 64, 67, 0.15);\n",
              "      fill: #174EA6;\n",
              "    }\n",
              "\n",
              "    [theme=dark] .colab-df-convert {\n",
              "      background-color: #3B4455;\n",
              "      fill: #D2E3FC;\n",
              "    }\n",
              "\n",
              "    [theme=dark] .colab-df-convert:hover {\n",
              "      background-color: #434B5C;\n",
              "      box-shadow: 0px 1px 3px 1px rgba(0, 0, 0, 0.15);\n",
              "      filter: drop-shadow(0px 1px 2px rgba(0, 0, 0, 0.3));\n",
              "      fill: #FFFFFF;\n",
              "    }\n",
              "  </style>\n",
              "\n",
              "      <script>\n",
              "        const buttonEl =\n",
              "          document.querySelector('#df-02838391-d5ea-4604-8b75-786e5c8888de button.colab-df-convert');\n",
              "        buttonEl.style.display =\n",
              "          google.colab.kernel.accessAllowed ? 'block' : 'none';\n",
              "\n",
              "        async function convertToInteractive(key) {\n",
              "          const element = document.querySelector('#df-02838391-d5ea-4604-8b75-786e5c8888de');\n",
              "          const dataTable =\n",
              "            await google.colab.kernel.invokeFunction('convertToInteractive',\n",
              "                                                     [key], {});\n",
              "          if (!dataTable) return;\n",
              "\n",
              "          const docLinkHtml = 'Like what you see? Visit the ' +\n",
              "            '<a target=\"_blank\" href=https://colab.research.google.com/notebooks/data_table.ipynb>data table notebook</a>'\n",
              "            + ' to learn more about interactive tables.';\n",
              "          element.innerHTML = '';\n",
              "          dataTable['output_type'] = 'display_data';\n",
              "          await google.colab.output.renderOutput(dataTable, element);\n",
              "          const docLink = document.createElement('div');\n",
              "          docLink.innerHTML = docLinkHtml;\n",
              "          element.appendChild(docLink);\n",
              "        }\n",
              "      </script>\n",
              "    </div>\n",
              "  </div>\n",
              "  "
            ],
            "text/plain": [
              "         CRIM  INDUS    NOX     RM    AGE     DIS  TAX  PTRATIO  LSTAT\n",
              "173   0.09178   0.00  0.510  6.416    0.0  2.6463  296     16.6   9.04\n",
              "274   0.05644   6.41  0.447  6.758   32.9  4.0776  254     17.6   3.53\n",
              "491   0.10574  27.74  0.609  5.983   98.8  1.8681  711     20.1  18.07\n",
              "72    0.09164  10.81  0.413  6.065    7.8  5.2873  305     19.2   5.52\n",
              "452   5.09017  18.10  0.713  6.297   91.8  2.3682  666     20.2  17.27\n",
              "..        ...    ...    ...    ...    ...     ...  ...      ...    ...\n",
              "412  18.81100  18.10  0.597  4.628  100.0  1.5539  666     20.2  34.37\n",
              "436  14.42080  18.10  0.740  6.461   93.3  2.0026  666     20.2  18.05\n",
              "411  14.05070  18.10  0.597  6.657  100.0  1.5275  666     20.2  21.22\n",
              "86    0.05188   4.49  0.449  6.015   45.1  4.4272  247     18.5  12.86\n",
              "75    0.09512  12.83  0.437  6.286   45.0  4.5026  398     18.7   8.94\n",
              "\n",
              "[102 rows x 9 columns]"
            ]
          },
          "metadata": {},
          "execution_count": 105
        }
      ]
    },
    {
      "cell_type": "markdown",
      "source": [
        "Let's modify run_all_models to allow us to run on different datasets:"
      ],
      "metadata": {
        "id": "yrwj3UGlXyQS"
      }
    },
    {
      "cell_type": "code",
      "source": [
        "def run_all_models(x_dict, y):\n",
        "  models_dict = {}\n",
        "  models_dict['Random forest'] = run_random_forest(x_dict['Random forest'][0], y)\n",
        "  models_dict['Decision tree'] = run_decision_tree(x_dict['Decision tree'][0], y)\n",
        "  models_dict['Linear regression'] = run_linear_regression(x_dict['Linear regression'][0], y)\n",
        "  models_dict['Ridge regression'] = run_ridge_regression(x_dict['Ridge regression'][0], y)\n",
        "  return models_dict"
      ],
      "metadata": {
        "id": "4gl3w0OiYrtd"
      },
      "execution_count": 106,
      "outputs": []
    },
    {
      "cell_type": "markdown",
      "source": [
        "And run:"
      ],
      "metadata": {
        "id": "rYFvv_kVZrUW"
      }
    },
    {
      "cell_type": "code",
      "metadata": {
        "colab": {
          "base_uri": "https://localhost:8080/"
        },
        "outputId": "2f043a59-2e42-48cb-a2da-e8b97be6c5e3",
        "id": "ba027FzGX5W7"
      },
      "source": [
        "models = run_all_models(x_data_dict, Y_train.values.ravel())\n",
        "models"
      ],
      "execution_count": 108,
      "outputs": [
        {
          "output_type": "stream",
          "name": "stdout",
          "text": [
            "Fitting 3 folds for each of 4 candidates, totalling 12 fits\n",
            "[CV 1/3] END ...............max_features=auto;, score=-21.182 total time=   0.7s\n",
            "[CV 2/3] END ...............max_features=auto;, score=-24.721 total time=   0.8s\n",
            "[CV 3/3] END ...............max_features=auto;, score=-10.632 total time=   0.8s\n",
            "[CV 1/3] END ...............max_features=sqrt;, score=-17.798 total time=   0.6s\n",
            "[CV 2/3] END ...............max_features=sqrt;, score=-16.111 total time=   0.6s\n",
            "[CV 3/3] END ...............max_features=sqrt;, score=-15.033 total time=   0.5s\n",
            "[CV 1/3] END ...............max_features=log2;, score=-17.798 total time=   0.4s\n",
            "[CV 2/3] END ...............max_features=log2;, score=-16.111 total time=   0.3s\n",
            "[CV 3/3] END ...............max_features=log2;, score=-15.033 total time=   0.3s\n",
            "[CV 1/3] END .max_features=0.3333333333333333;, score=-17.798 total time=   0.3s\n",
            "[CV 2/3] END .max_features=0.3333333333333333;, score=-16.111 total time=   0.3s\n",
            "[CV 3/3] END .max_features=0.3333333333333333;, score=-15.033 total time=   0.3s\n",
            "Fitting 3 folds for each of 4 candidates, totalling 12 fits\n",
            "[CV 1/3] END ...............max_features=auto;, score=-41.275 total time=   0.0s\n",
            "[CV 2/3] END ...............max_features=auto;, score=-36.226 total time=   0.0s\n",
            "[CV 3/3] END ...............max_features=auto;, score=-24.617 total time=   0.0s\n",
            "[CV 1/3] END ...............max_features=sqrt;, score=-29.105 total time=   0.0s\n",
            "[CV 2/3] END ...............max_features=sqrt;, score=-39.963 total time=   0.0s\n",
            "[CV 3/3] END ...............max_features=sqrt;, score=-22.336 total time=   0.0s\n",
            "[CV 1/3] END ...............max_features=log2;, score=-29.105 total time=   0.0s\n",
            "[CV 2/3] END ...............max_features=log2;, score=-39.963 total time=   0.0s\n",
            "[CV 3/3] END ...............max_features=log2;, score=-22.336 total time=   0.0s\n",
            "[CV 1/3] END .max_features=0.3333333333333333;, score=-29.105 total time=   0.0s\n",
            "[CV 2/3] END .max_features=0.3333333333333333;, score=-39.963 total time=   0.0s\n",
            "[CV 3/3] END .max_features=0.3333333333333333;, score=-22.336 total time=   0.0s\n",
            "Fitting 3 folds for each of 3 candidates, totalling 9 fits\n",
            "[CV 1/3] END ......................alpha=0.05;, score=-26.438 total time=   0.0s\n",
            "[CV 2/3] END ......................alpha=0.05;, score=-27.192 total time=   0.0s\n",
            "[CV 3/3] END ......................alpha=0.05;, score=-21.620 total time=   0.0s\n",
            "[CV 1/3] END .......................alpha=0.5;, score=-26.785 total time=   0.0s\n",
            "[CV 2/3] END .......................alpha=0.5;, score=-27.313 total time=   0.0s\n",
            "[CV 3/3] END .......................alpha=0.5;, score=-21.674 total time=   0.0s\n",
            "[CV 1/3] END .........................alpha=1;, score=-27.092 total time=   0.0s\n",
            "[CV 2/3] END .........................alpha=1;, score=-27.513 total time=   0.0s\n",
            "[CV 3/3] END .........................alpha=1;, score=-21.837 total time=   0.0s\n"
          ]
        },
        {
          "output_type": "execute_result",
          "data": {
            "text/plain": [
              "{'Decision tree': GridSearchCV(cv=3, estimator=DecisionTreeRegressor(random_state=42),\n",
              "              param_grid={'max_features': ['auto', 'sqrt', 'log2',\n",
              "                                           0.3333333333333333]},\n",
              "              scoring='neg_mean_squared_error', verbose=3),\n",
              " 'Linear regression': (LinearRegression(),\n",
              "  array([-26.40356741, -27.20127573, -21.63597095])),\n",
              " 'Random forest': GridSearchCV(cv=3,\n",
              "              estimator=RandomForestRegressor(n_estimators=200, random_state=42),\n",
              "              param_grid={'max_features': ['auto', 'sqrt', 'log2',\n",
              "                                           0.3333333333333333]},\n",
              "              scoring='neg_mean_squared_error', verbose=3),\n",
              " 'Ridge regression': GridSearchCV(cv=3, estimator=Ridge(), param_grid={'alpha': [0.05, 0.5, 1]},\n",
              "              scoring='neg_mean_squared_error', verbose=3)}"
            ]
          },
          "metadata": {},
          "execution_count": 108
        }
      ]
    },
    {
      "cell_type": "code",
      "source": [
        "cv_scores = {}\n",
        "cv_scores['Random forest'] = models['Random forest'].best_score_\n",
        "cv_scores['Decision tree'] = models['Decision tree'].best_score_\n",
        "cv_scores['Ridge regression'] = models['Ridge regression'].best_score_\n",
        "cv_scores['Linear regression'] = models['Linear regression'][1].mean()\n",
        "cv_scores"
      ],
      "metadata": {
        "id": "xBEgyqfuX5W7",
        "colab": {
          "base_uri": "https://localhost:8080/"
        },
        "outputId": "97c93115-5b64-4d25-b6b7-ee63c8abddb7"
      },
      "execution_count": 109,
      "outputs": [
        {
          "output_type": "execute_result",
          "data": {
            "text/plain": [
              "{'Decision tree': -30.467892205638478,\n",
              " 'Linear regression': -25.080271364209796,\n",
              " 'Random forest': -16.313996951340517,\n",
              " 'Ridge regression': -25.083199382596263}"
            ]
          },
          "metadata": {},
          "execution_count": 109
        }
      ]
    },
    {
      "cell_type": "code",
      "source": [
        "trained_models_dict = {}\n",
        "trained_models_dict['Random forest'] = models['Random forest'].best_estimator_\n",
        "trained_models_dict['Decision tree'] = models['Decision tree'].best_estimator_\n",
        "trained_models_dict['Ridge regression'] = models['Ridge regression'].best_estimator_\n",
        "trained_models_dict['Linear regression'] = models['Linear regression'][0]\n",
        "trained_models_dict"
      ],
      "metadata": {
        "colab": {
          "base_uri": "https://localhost:8080/"
        },
        "outputId": "0d7b74ea-5106-49a0-dd08-c8aa8ef60c7a",
        "id": "qHGakMIbX5W7"
      },
      "execution_count": 110,
      "outputs": [
        {
          "output_type": "execute_result",
          "data": {
            "text/plain": [
              "{'Decision tree': DecisionTreeRegressor(max_features='sqrt', random_state=42),\n",
              " 'Linear regression': LinearRegression(),\n",
              " 'Random forest': RandomForestRegressor(max_features='sqrt', n_estimators=200, random_state=42),\n",
              " 'Ridge regression': Ridge(alpha=0.05)}"
            ]
          },
          "metadata": {},
          "execution_count": 110
        }
      ]
    },
    {
      "cell_type": "markdown",
      "source": [
        "We'll need to modify evaluate_all_models as well:"
      ],
      "metadata": {
        "id": "VV-5k91VZwHc"
      }
    },
    {
      "cell_type": "code",
      "source": [
        "def evaluate_all_models(x_dict, y, models_dict):\n",
        "  test_set_scores = {}\n",
        "  for k, v in models_dict.items():\n",
        "    test_set_scores[k] = evaluate_single_model(x_dict[k][1], y, v)\n",
        "  return test_set_scores"
      ],
      "metadata": {
        "id": "XsqLnYz-Z3a8"
      },
      "execution_count": 112,
      "outputs": []
    },
    {
      "cell_type": "code",
      "source": [
        "test_set_scores = evaluate_all_models(x_data_dict, Y_test, trained_models_dict)\n",
        "test_set_scores"
      ],
      "metadata": {
        "colab": {
          "base_uri": "https://localhost:8080/"
        },
        "outputId": "139e66df-c058-45ea-8132-17473119b2c6",
        "id": "UZAPXsEZX5W7"
      },
      "execution_count": 113,
      "outputs": [
        {
          "output_type": "execute_result",
          "data": {
            "text/plain": [
              "{'Decision tree': 10.13078431372549,\n",
              " 'Linear regression': 25.612095689231538,\n",
              " 'Random forest': 9.128750252450981,\n",
              " 'Ridge regression': 25.616690153170307}"
            ]
          },
          "metadata": {},
          "execution_count": 113
        }
      ]
    },
    {
      "cell_type": "code",
      "source": [
        "combined_dict = {k: [np.abs(v), test_set_scores[k]] for k, v in cv_scores.items()}\n",
        "combined_dict"
      ],
      "metadata": {
        "id": "6wnbFEtxX5W7",
        "colab": {
          "base_uri": "https://localhost:8080/"
        },
        "outputId": "5c2d657e-c0b4-40d7-b7a9-9cba02d06be5"
      },
      "execution_count": 114,
      "outputs": [
        {
          "output_type": "execute_result",
          "data": {
            "text/plain": [
              "{'Decision tree': [30.467892205638478, 10.13078431372549],\n",
              " 'Linear regression': [25.080271364209796, 25.612095689231538],\n",
              " 'Random forest': [16.313996951340517, 9.128750252450981],\n",
              " 'Ridge regression': [25.083199382596263, 25.616690153170307]}"
            ]
          },
          "metadata": {},
          "execution_count": 114
        }
      ]
    },
    {
      "cell_type": "markdown",
      "source": [
        "Let's look at the new:"
      ],
      "metadata": {
        "id": "I76-a460el3v"
      }
    },
    {
      "cell_type": "code",
      "source": [
        "new_scores_df = pd.DataFrame.from_dict(combined_dict, orient='index', columns=['CV score removed features', 'Test set score removed features'])\n",
        "new_scores_df"
      ],
      "metadata": {
        "colab": {
          "base_uri": "https://localhost:8080/",
          "height": 175
        },
        "id": "r10SFNM4cPXn",
        "outputId": "820291ed-631c-4e74-87a0-2bc09ffe49d9"
      },
      "execution_count": 115,
      "outputs": [
        {
          "output_type": "execute_result",
          "data": {
            "text/html": [
              "\n",
              "  <div id=\"df-d10e9c7a-9766-44d5-9272-17aca9eec4e3\">\n",
              "    <div class=\"colab-df-container\">\n",
              "      <div>\n",
              "<style scoped>\n",
              "    .dataframe tbody tr th:only-of-type {\n",
              "        vertical-align: middle;\n",
              "    }\n",
              "\n",
              "    .dataframe tbody tr th {\n",
              "        vertical-align: top;\n",
              "    }\n",
              "\n",
              "    .dataframe thead th {\n",
              "        text-align: right;\n",
              "    }\n",
              "</style>\n",
              "<table border=\"1\" class=\"dataframe\">\n",
              "  <thead>\n",
              "    <tr style=\"text-align: right;\">\n",
              "      <th></th>\n",
              "      <th>CV score removed features</th>\n",
              "      <th>Test set score removed features</th>\n",
              "    </tr>\n",
              "  </thead>\n",
              "  <tbody>\n",
              "    <tr>\n",
              "      <th>Random forest</th>\n",
              "      <td>16.313997</td>\n",
              "      <td>9.128750</td>\n",
              "    </tr>\n",
              "    <tr>\n",
              "      <th>Decision tree</th>\n",
              "      <td>30.467892</td>\n",
              "      <td>10.130784</td>\n",
              "    </tr>\n",
              "    <tr>\n",
              "      <th>Ridge regression</th>\n",
              "      <td>25.083199</td>\n",
              "      <td>25.616690</td>\n",
              "    </tr>\n",
              "    <tr>\n",
              "      <th>Linear regression</th>\n",
              "      <td>25.080271</td>\n",
              "      <td>25.612096</td>\n",
              "    </tr>\n",
              "  </tbody>\n",
              "</table>\n",
              "</div>\n",
              "      <button class=\"colab-df-convert\" onclick=\"convertToInteractive('df-d10e9c7a-9766-44d5-9272-17aca9eec4e3')\"\n",
              "              title=\"Convert this dataframe to an interactive table.\"\n",
              "              style=\"display:none;\">\n",
              "        \n",
              "  <svg xmlns=\"http://www.w3.org/2000/svg\" height=\"24px\"viewBox=\"0 0 24 24\"\n",
              "       width=\"24px\">\n",
              "    <path d=\"M0 0h24v24H0V0z\" fill=\"none\"/>\n",
              "    <path d=\"M18.56 5.44l.94 2.06.94-2.06 2.06-.94-2.06-.94-.94-2.06-.94 2.06-2.06.94zm-11 1L8.5 8.5l.94-2.06 2.06-.94-2.06-.94L8.5 2.5l-.94 2.06-2.06.94zm10 10l.94 2.06.94-2.06 2.06-.94-2.06-.94-.94-2.06-.94 2.06-2.06.94z\"/><path d=\"M17.41 7.96l-1.37-1.37c-.4-.4-.92-.59-1.43-.59-.52 0-1.04.2-1.43.59L10.3 9.45l-7.72 7.72c-.78.78-.78 2.05 0 2.83L4 21.41c.39.39.9.59 1.41.59.51 0 1.02-.2 1.41-.59l7.78-7.78 2.81-2.81c.8-.78.8-2.07 0-2.86zM5.41 20L4 18.59l7.72-7.72 1.47 1.35L5.41 20z\"/>\n",
              "  </svg>\n",
              "      </button>\n",
              "      \n",
              "  <style>\n",
              "    .colab-df-container {\n",
              "      display:flex;\n",
              "      flex-wrap:wrap;\n",
              "      gap: 12px;\n",
              "    }\n",
              "\n",
              "    .colab-df-convert {\n",
              "      background-color: #E8F0FE;\n",
              "      border: none;\n",
              "      border-radius: 50%;\n",
              "      cursor: pointer;\n",
              "      display: none;\n",
              "      fill: #1967D2;\n",
              "      height: 32px;\n",
              "      padding: 0 0 0 0;\n",
              "      width: 32px;\n",
              "    }\n",
              "\n",
              "    .colab-df-convert:hover {\n",
              "      background-color: #E2EBFA;\n",
              "      box-shadow: 0px 1px 2px rgba(60, 64, 67, 0.3), 0px 1px 3px 1px rgba(60, 64, 67, 0.15);\n",
              "      fill: #174EA6;\n",
              "    }\n",
              "\n",
              "    [theme=dark] .colab-df-convert {\n",
              "      background-color: #3B4455;\n",
              "      fill: #D2E3FC;\n",
              "    }\n",
              "\n",
              "    [theme=dark] .colab-df-convert:hover {\n",
              "      background-color: #434B5C;\n",
              "      box-shadow: 0px 1px 3px 1px rgba(0, 0, 0, 0.15);\n",
              "      filter: drop-shadow(0px 1px 2px rgba(0, 0, 0, 0.3));\n",
              "      fill: #FFFFFF;\n",
              "    }\n",
              "  </style>\n",
              "\n",
              "      <script>\n",
              "        const buttonEl =\n",
              "          document.querySelector('#df-d10e9c7a-9766-44d5-9272-17aca9eec4e3 button.colab-df-convert');\n",
              "        buttonEl.style.display =\n",
              "          google.colab.kernel.accessAllowed ? 'block' : 'none';\n",
              "\n",
              "        async function convertToInteractive(key) {\n",
              "          const element = document.querySelector('#df-d10e9c7a-9766-44d5-9272-17aca9eec4e3');\n",
              "          const dataTable =\n",
              "            await google.colab.kernel.invokeFunction('convertToInteractive',\n",
              "                                                     [key], {});\n",
              "          if (!dataTable) return;\n",
              "\n",
              "          const docLinkHtml = 'Like what you see? Visit the ' +\n",
              "            '<a target=\"_blank\" href=https://colab.research.google.com/notebooks/data_table.ipynb>data table notebook</a>'\n",
              "            + ' to learn more about interactive tables.';\n",
              "          element.innerHTML = '';\n",
              "          dataTable['output_type'] = 'display_data';\n",
              "          await google.colab.output.renderOutput(dataTable, element);\n",
              "          const docLink = document.createElement('div');\n",
              "          docLink.innerHTML = docLinkHtml;\n",
              "          element.appendChild(docLink);\n",
              "        }\n",
              "      </script>\n",
              "    </div>\n",
              "  </div>\n",
              "  "
            ],
            "text/plain": [
              "                   CV score removed features  Test set score removed features\n",
              "Random forest                      16.313997                         9.128750\n",
              "Decision tree                      30.467892                        10.130784\n",
              "Ridge regression                   25.083199                        25.616690\n",
              "Linear regression                  25.080271                        25.612096"
            ]
          },
          "metadata": {},
          "execution_count": 115
        }
      ]
    },
    {
      "cell_type": "markdown",
      "source": [
        "And combine to one df:"
      ],
      "metadata": {
        "id": "5vystjAzeqzM"
      }
    },
    {
      "cell_type": "code",
      "source": [
        "combined_df = pd.concat([scores_df, new_scores_df], axis=1, ignore_index=False)\n",
        "combined_df"
      ],
      "metadata": {
        "colab": {
          "base_uri": "https://localhost:8080/",
          "height": 175
        },
        "id": "SRryK8fqcY6v",
        "outputId": "5d37ed58-60f4-4ae5-afd1-56406e4e702b"
      },
      "execution_count": 116,
      "outputs": [
        {
          "output_type": "execute_result",
          "data": {
            "text/html": [
              "\n",
              "  <div id=\"df-3a905f77-b5ff-41e9-8d28-00e7c600d62c\">\n",
              "    <div class=\"colab-df-container\">\n",
              "      <div>\n",
              "<style scoped>\n",
              "    .dataframe tbody tr th:only-of-type {\n",
              "        vertical-align: middle;\n",
              "    }\n",
              "\n",
              "    .dataframe tbody tr th {\n",
              "        vertical-align: top;\n",
              "    }\n",
              "\n",
              "    .dataframe thead th {\n",
              "        text-align: right;\n",
              "    }\n",
              "</style>\n",
              "<table border=\"1\" class=\"dataframe\">\n",
              "  <thead>\n",
              "    <tr style=\"text-align: right;\">\n",
              "      <th></th>\n",
              "      <th>CV score</th>\n",
              "      <th>Test set score</th>\n",
              "      <th>CV score removed features</th>\n",
              "      <th>Test set score removed features</th>\n",
              "    </tr>\n",
              "  </thead>\n",
              "  <tbody>\n",
              "    <tr>\n",
              "      <th>Random forest</th>\n",
              "      <td>15.918192</td>\n",
              "      <td>9.932152</td>\n",
              "      <td>16.313997</td>\n",
              "      <td>9.128750</td>\n",
              "    </tr>\n",
              "    <tr>\n",
              "      <th>Decision tree</th>\n",
              "      <td>32.231269</td>\n",
              "      <td>26.548333</td>\n",
              "      <td>30.467892</td>\n",
              "      <td>10.130784</td>\n",
              "    </tr>\n",
              "    <tr>\n",
              "      <th>Ridge regression</th>\n",
              "      <td>25.378054</td>\n",
              "      <td>24.682875</td>\n",
              "      <td>25.083199</td>\n",
              "      <td>25.616690</td>\n",
              "    </tr>\n",
              "    <tr>\n",
              "      <th>Linear regression</th>\n",
              "      <td>25.378359</td>\n",
              "      <td>24.680426</td>\n",
              "      <td>25.080271</td>\n",
              "      <td>25.612096</td>\n",
              "    </tr>\n",
              "  </tbody>\n",
              "</table>\n",
              "</div>\n",
              "      <button class=\"colab-df-convert\" onclick=\"convertToInteractive('df-3a905f77-b5ff-41e9-8d28-00e7c600d62c')\"\n",
              "              title=\"Convert this dataframe to an interactive table.\"\n",
              "              style=\"display:none;\">\n",
              "        \n",
              "  <svg xmlns=\"http://www.w3.org/2000/svg\" height=\"24px\"viewBox=\"0 0 24 24\"\n",
              "       width=\"24px\">\n",
              "    <path d=\"M0 0h24v24H0V0z\" fill=\"none\"/>\n",
              "    <path d=\"M18.56 5.44l.94 2.06.94-2.06 2.06-.94-2.06-.94-.94-2.06-.94 2.06-2.06.94zm-11 1L8.5 8.5l.94-2.06 2.06-.94-2.06-.94L8.5 2.5l-.94 2.06-2.06.94zm10 10l.94 2.06.94-2.06 2.06-.94-2.06-.94-.94-2.06-.94 2.06-2.06.94z\"/><path d=\"M17.41 7.96l-1.37-1.37c-.4-.4-.92-.59-1.43-.59-.52 0-1.04.2-1.43.59L10.3 9.45l-7.72 7.72c-.78.78-.78 2.05 0 2.83L4 21.41c.39.39.9.59 1.41.59.51 0 1.02-.2 1.41-.59l7.78-7.78 2.81-2.81c.8-.78.8-2.07 0-2.86zM5.41 20L4 18.59l7.72-7.72 1.47 1.35L5.41 20z\"/>\n",
              "  </svg>\n",
              "      </button>\n",
              "      \n",
              "  <style>\n",
              "    .colab-df-container {\n",
              "      display:flex;\n",
              "      flex-wrap:wrap;\n",
              "      gap: 12px;\n",
              "    }\n",
              "\n",
              "    .colab-df-convert {\n",
              "      background-color: #E8F0FE;\n",
              "      border: none;\n",
              "      border-radius: 50%;\n",
              "      cursor: pointer;\n",
              "      display: none;\n",
              "      fill: #1967D2;\n",
              "      height: 32px;\n",
              "      padding: 0 0 0 0;\n",
              "      width: 32px;\n",
              "    }\n",
              "\n",
              "    .colab-df-convert:hover {\n",
              "      background-color: #E2EBFA;\n",
              "      box-shadow: 0px 1px 2px rgba(60, 64, 67, 0.3), 0px 1px 3px 1px rgba(60, 64, 67, 0.15);\n",
              "      fill: #174EA6;\n",
              "    }\n",
              "\n",
              "    [theme=dark] .colab-df-convert {\n",
              "      background-color: #3B4455;\n",
              "      fill: #D2E3FC;\n",
              "    }\n",
              "\n",
              "    [theme=dark] .colab-df-convert:hover {\n",
              "      background-color: #434B5C;\n",
              "      box-shadow: 0px 1px 3px 1px rgba(0, 0, 0, 0.15);\n",
              "      filter: drop-shadow(0px 1px 2px rgba(0, 0, 0, 0.3));\n",
              "      fill: #FFFFFF;\n",
              "    }\n",
              "  </style>\n",
              "\n",
              "      <script>\n",
              "        const buttonEl =\n",
              "          document.querySelector('#df-3a905f77-b5ff-41e9-8d28-00e7c600d62c button.colab-df-convert');\n",
              "        buttonEl.style.display =\n",
              "          google.colab.kernel.accessAllowed ? 'block' : 'none';\n",
              "\n",
              "        async function convertToInteractive(key) {\n",
              "          const element = document.querySelector('#df-3a905f77-b5ff-41e9-8d28-00e7c600d62c');\n",
              "          const dataTable =\n",
              "            await google.colab.kernel.invokeFunction('convertToInteractive',\n",
              "                                                     [key], {});\n",
              "          if (!dataTable) return;\n",
              "\n",
              "          const docLinkHtml = 'Like what you see? Visit the ' +\n",
              "            '<a target=\"_blank\" href=https://colab.research.google.com/notebooks/data_table.ipynb>data table notebook</a>'\n",
              "            + ' to learn more about interactive tables.';\n",
              "          element.innerHTML = '';\n",
              "          dataTable['output_type'] = 'display_data';\n",
              "          await google.colab.output.renderOutput(dataTable, element);\n",
              "          const docLink = document.createElement('div');\n",
              "          docLink.innerHTML = docLinkHtml;\n",
              "          element.appendChild(docLink);\n",
              "        }\n",
              "      </script>\n",
              "    </div>\n",
              "  </div>\n",
              "  "
            ],
            "text/plain": [
              "                    CV score  ...  Test set score removed features\n",
              "Random forest      15.918192  ...                         9.128750\n",
              "Decision tree      32.231269  ...                        10.130784\n",
              "Ridge regression   25.378054  ...                        25.616690\n",
              "Linear regression  25.378359  ...                        25.612096\n",
              "\n",
              "[4 rows x 4 columns]"
            ]
          },
          "metadata": {},
          "execution_count": 116
        }
      ]
    },
    {
      "cell_type": "markdown",
      "source": [
        "Finally, let's plot the results:"
      ],
      "metadata": {
        "id": "0ndbQQLces2v"
      }
    },
    {
      "cell_type": "code",
      "source": [
        "combined_df[['CV score', 'CV score removed features']].plot(kind='barh', title = 'CV Comparison').legend(loc='center left', bbox_to_anchor=(1.0, 0.5))"
      ],
      "metadata": {
        "colab": {
          "base_uri": "https://localhost:8080/",
          "height": 301
        },
        "id": "Hwj2IhItdrhw",
        "outputId": "55f6e86e-676a-466c-85b1-fef5bfce06fb"
      },
      "execution_count": 117,
      "outputs": [
        {
          "output_type": "execute_result",
          "data": {
            "text/plain": [
              "<matplotlib.legend.Legend at 0x7fcbac01a090>"
            ]
          },
          "metadata": {},
          "execution_count": 117
        },
        {
          "output_type": "display_data",
          "data": {
            "image/png": "[encoded data removed]",
            "text/plain": [
              "<Figure size 432x288 with 1 Axes>"
            ]
          },
          "metadata": {}
        }
      ]
    },
    {
      "cell_type": "code",
      "source": [
        "combined_df[['Test set score', 'Test set score removed features']].plot(kind='barh', title = 'Test set score Comparison').legend(loc='center left', bbox_to_anchor=(1.0, 0.5))"
      ],
      "metadata": {
        "colab": {
          "base_uri": "https://localhost:8080/",
          "height": 301
        },
        "id": "v9OAphWveXni",
        "outputId": "b9952f58-0483-4efa-d006-2650303a156f"
      },
      "execution_count": 118,
      "outputs": [
        {
          "output_type": "execute_result",
          "data": {
            "text/plain": [
              "<matplotlib.legend.Legend at 0x7fcbabffc8d0>"
            ]
          },
          "metadata": {},
          "execution_count": 118
        },
        {
          "output_type": "display_data",
          "data": {
            "image/png": "[encoded data removed]",
            "text/plain": [
              "<Figure size 432x288 with 1 Axes>"
            ]
          },
          "metadata": {}
        }
      ]
    },
    {
      "cell_type": "markdown",
      "metadata": {
        "id": "_d6lVptpOG69"
      },
      "source": [
        "## Conclusion\n",
        "\n",
        "In today's class we learned:\n",
        "*   The choice of models matters: random forest outperformed other regression models.\n",
        "*   How to tune hyperparameters for an ML model.\n",
        "*   Data science has an ethical perspective.\n",
        "*   Sometimes in ML, less is more: by removing features with low impact we improve the results of our model.\n",
        "\n"
      ]
    }
  ]
}